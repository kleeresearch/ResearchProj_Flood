{
  "nbformat": 4,
  "nbformat_minor": 0,
  "metadata": {
    "colab": {
      "name": "2020.08.02._social_censusdata.ipynb",
      "provenance": [],
      "toc_visible": true,
      "authorship_tag": "ABX9TyPjB/jifHL/XronHsH17MAw",
      "include_colab_link": true
    },
    "kernelspec": {
      "name": "python3",
      "display_name": "Python 3"
    }
  },
  "cells": [
    {
      "cell_type": "markdown",
      "metadata": {
        "id": "view-in-github",
        "colab_type": "text"
      },
      "source": [
        "<a href=\"https://colab.research.google.com/github/KLeeDE/ResearchProj_Flood/blob/master/4_SED_censusdata.ipynb\" target=\"_parent\"><img src=\"https://colab.research.google.com/assets/colab-badge.svg\" alt=\"Open In Colab\"/></a>"
      ]
    },
    {
      "cell_type": "markdown",
      "metadata": {
        "id": "b9wedjVNpSpt",
        "colab_type": "text"
      },
      "source": [
        "# Delaware Social Factors by Census Tract, Block Group, Block\n",
        "\n",
        "[Link](https://jtleider.github.io/censusdata/example1.html)"
      ]
    },
    {
      "cell_type": "code",
      "metadata": {
        "id": "Ylm_UlXBpJ3E",
        "colab_type": "code",
        "colab": {
          "base_uri": "https://localhost:8080/",
          "height": 353
        },
        "outputId": "144895e3-2400-41cb-8a5c-49b23023e75b"
      },
      "source": [
        "!pip install censusdata"
      ],
      "execution_count": null,
      "outputs": [
        {
          "output_type": "stream",
          "text": [
            "Collecting censusdata\n",
            "\u001b[?25l  Downloading https://files.pythonhosted.org/packages/cf/b7/864a9d8c1fe4f7f7d6735c626ed8f378f9c4b784b6631dcd2d4e85d09caa/CensusData-1.8.tar.gz (23.2MB)\n",
            "\u001b[K     |████████████████████████████████| 23.2MB 35.0MB/s \n",
            "\u001b[?25hRequirement already satisfied: pandas in /usr/local/lib/python3.6/dist-packages (from censusdata) (1.0.5)\n",
            "Requirement already satisfied: requests in /usr/local/lib/python3.6/dist-packages (from censusdata) (2.23.0)\n",
            "Requirement already satisfied: python-dateutil>=2.6.1 in /usr/local/lib/python3.6/dist-packages (from pandas->censusdata) (2.8.1)\n",
            "Requirement already satisfied: numpy>=1.13.3 in /usr/local/lib/python3.6/dist-packages (from pandas->censusdata) (1.18.5)\n",
            "Requirement already satisfied: pytz>=2017.2 in /usr/local/lib/python3.6/dist-packages (from pandas->censusdata) (2018.9)\n",
            "Requirement already satisfied: certifi>=2017.4.17 in /usr/local/lib/python3.6/dist-packages (from requests->censusdata) (2020.6.20)\n",
            "Requirement already satisfied: idna<3,>=2.5 in /usr/local/lib/python3.6/dist-packages (from requests->censusdata) (2.10)\n",
            "Requirement already satisfied: urllib3!=1.25.0,!=1.25.1,<1.26,>=1.21.1 in /usr/local/lib/python3.6/dist-packages (from requests->censusdata) (1.24.3)\n",
            "Requirement already satisfied: chardet<4,>=3.0.2 in /usr/local/lib/python3.6/dist-packages (from requests->censusdata) (3.0.4)\n",
            "Requirement already satisfied: six>=1.5 in /usr/local/lib/python3.6/dist-packages (from python-dateutil>=2.6.1->pandas->censusdata) (1.15.0)\n",
            "Building wheels for collected packages: censusdata\n",
            "  Building wheel for censusdata (setup.py) ... \u001b[?25l\u001b[?25hdone\n",
            "  Created wheel for censusdata: filename=CensusData-1.8-cp36-none-any.whl size=24706121 sha256=f1da6a6f488e4900747bb975b0d45ae5abbc630d5e4dc9a4afedc56627067313\n",
            "  Stored in directory: /root/.cache/pip/wheels/76/04/a7/086077b0f4dee8f4c81dc16389b84a1add31d6626f3e0985fd\n",
            "Successfully built censusdata\n",
            "Installing collected packages: censusdata\n",
            "Successfully installed censusdata-1.8\n"
          ],
          "name": "stdout"
        }
      ]
    },
    {
      "cell_type": "code",
      "metadata": {
        "id": "-MUe8_EUppBI",
        "colab_type": "code",
        "colab": {}
      },
      "source": [
        "import censusdata\n",
        "import pandas as pd\n",
        "import numpy as np"
      ],
      "execution_count": null,
      "outputs": []
    },
    {
      "cell_type": "markdown",
      "metadata": {
        "id": "iJqc4yUouE5X",
        "colab_type": "text"
      },
      "source": [
        "# Median Income"
      ]
    },
    {
      "cell_type": "code",
      "metadata": {
        "id": "uMUsFh-KtCtf",
        "colab_type": "code",
        "colab": {
          "base_uri": "https://localhost:8080/",
          "height": 151
        },
        "outputId": "1ce1369d-46de-42a8-ca0e-f5506b1d596a"
      },
      "source": [
        "censusdata.censustable('acs5', 2015, 'B19049')\n",
        "censusdata.printtable(censusdata.censustable('acs5', 2015, 'B19049'))"
      ],
      "execution_count": null,
      "outputs": [
        {
          "output_type": "stream",
          "text": [
            "Variable     | Table                          | Label                                                    | Type \n",
            "-------------------------------------------------------------------------------------------------------------------\n",
            "B19049_001E  | B19049. Median Household Incom | !! Median household income in the past 12 months (in 201 | int  \n",
            "B19049_002E  | B19049. Median Household Incom | !! Median household income in the past 12 months (in 201 | int  \n",
            "B19049_003E  | B19049. Median Household Incom | !! Median household income in the past 12 months (in 201 | int  \n",
            "B19049_004E  | B19049. Median Household Incom | !! Median household income in the past 12 months (in 201 | int  \n",
            "B19049_005E  | B19049. Median Household Incom | !! Median household income in the past 12 months (in 201 | int  \n",
            "-------------------------------------------------------------------------------------------------------------------\n"
          ],
          "name": "stdout"
        }
      ]
    },
    {
      "cell_type": "code",
      "metadata": {
        "id": "u5mDRPu7t4NU",
        "colab_type": "code",
        "colab": {
          "base_uri": "https://localhost:8080/",
          "height": 314
        },
        "outputId": "960802e4-99c6-47a0-fb07-87f70a26640e"
      },
      "source": [
        "censusdata.geographies(censusdata.censusgeo([('state', '*')]), 'acs5', 2015)\n",
        "censusdata.geographies(censusdata.censusgeo([('state', '10'), ('county', '*')]), 'acs5', 2015)\n",
        "income_cblkg = censusdata.download('acs5', 2015, censusdata.censusgeo([('state', '10'), ('county', '001'), ('block group', '*')]), [\"B19049_001E\"])\n",
        "de_income_cblkg  = pd.concat([censusdata.download('acs5', 2015, censusdata.censusgeo([('state', '10'), ('county', i), ('block group', '*')]), [\"B19049_001E\"]) for i in [\"003\", \"001\", \"005\"]])\n",
        "de_income_cblkg \n",
        "de_income_cblkg.clip(0, 1e9).hist([\"B19049_001E\"], bins=30)"
      ],
      "execution_count": null,
      "outputs": [
        {
          "output_type": "execute_result",
          "data": {
            "text/plain": [
              "array([[<matplotlib.axes._subplots.AxesSubplot object at 0x7f3c2645a908>]],\n",
              "      dtype=object)"
            ]
          },
          "metadata": {
            "tags": []
          },
          "execution_count": 6
        },
        {
          "output_type": "display_data",
          "data": {
            "image/png": "[encoded data removed]",
            "text/plain": [
              "<Figure size 432x288 with 1 Axes>"
            ]
          },
          "metadata": {
            "tags": [],
            "needs_background": "light"
          }
        }
      ]
    },
    {
      "cell_type": "markdown",
      "metadata": {
        "id": "TC3K_Xnbu_te",
        "colab_type": "text"
      },
      "source": [
        "# Race"
      ]
    },
    {
      "cell_type": "code",
      "metadata": {
        "id": "fIYGKAx-uxQk",
        "colab_type": "code",
        "colab": {
          "base_uri": "https://localhost:8080/",
          "height": 235
        },
        "outputId": "9ad93623-7b24-493a-c651-3f20ab789961"
      },
      "source": [
        "censusdata.printtable(censusdata.censustable('acs5', 2015, 'B02001'))"
      ],
      "execution_count": null,
      "outputs": [
        {
          "output_type": "stream",
          "text": [
            "Variable     | Table                          | Label                                                    | Type \n",
            "-------------------------------------------------------------------------------------------------------------------\n",
            "B02001_001E  | B02001.  Race                  | Total:                                                   | int  \n",
            "B02001_002E  | B02001.  Race                  | White alone                                              | int  \n",
            "B02001_003E  | B02001.  Race                  | Black or African American alone                          | int  \n",
            "B02001_004E  | B02001.  Race                  | American Indian and Alaska Native alone                  | int  \n",
            "B02001_005E  | B02001.  Race                  | Asian alone                                              | int  \n",
            "B02001_006E  | B02001.  Race                  | Native Hawaiian and Other Pacific Islander alone         | int  \n",
            "B02001_007E  | B02001.  Race                  | Some other race alone                                    | int  \n",
            "B02001_008E  | B02001.  Race                  | Two or more races:                                       | int  \n",
            "B02001_009E  | B02001.  Race                  | !! Two or more races: Two races including Some other rac | int  \n",
            "B02001_010E  | B02001.  Race                  | !! Two or more races: Two races excluding Some other rac | int  \n",
            "-------------------------------------------------------------------------------------------------------------------\n"
          ],
          "name": "stdout"
        }
      ]
    },
    {
      "cell_type": "code",
      "metadata": {
        "id": "cwTprHHR_bDL",
        "colab_type": "code",
        "colab": {
          "base_uri": "https://localhost:8080/",
          "height": 402
        },
        "outputId": "e3634a8f-1995-4ca4-e479-c037fcfb5fdb"
      },
      "source": [
        "censusdata.geographies(censusdata.censusgeo([('state', '*')]), 'acs5', 2015)\n",
        "censusdata.geographies(censusdata.censusgeo([('state', '10'), ('county', '*')]), 'acs5', 2015)\n",
        "race_cblkg = censusdata.download('acs5', 2015, censusdata.censusgeo([('state', '10'), ('county', '001'), ('block group', '*')]), [\"B02001_001E\", \"B02001_002E\"])\n",
        "de_race_cblkg  = pd.concat([censusdata.download('acs5', 2015, censusdata.censusgeo([('state', '10'), ('county', i), ('block group', '*')]), [\"B02001_001E\", \"B02001_002E\"]) for i in [\"003\", \"001\", \"005\"]])\n",
        "de_race_cblkg['per_white'] = de_race_cblkg[\"B02001_002E\"] / de_race_cblkg[\"B02001_001E\"] * 100\n",
        "de_race_cblkg['per_nonwhite'] = (de_race_cblkg[\"B02001_001E\"] - de_race_cblkg[\"B02001_002E\"])/de_race_cblkg[\"B02001_001E\"] *100\n",
        "de_race_cblkg = de_race_cblkg[['per_white', 'per_nonwhite']].dropna()\n",
        "de_race_cblkg"
      ],
      "execution_count": null,
      "outputs": [
        {
          "output_type": "execute_result",
          "data": {
            "text/html": [
              "<div>\n",
              "<style scoped>\n",
              "    .dataframe tbody tr th:only-of-type {\n",
              "        vertical-align: middle;\n",
              "    }\n",
              "\n",
              "    .dataframe tbody tr th {\n",
              "        vertical-align: top;\n",
              "    }\n",
              "\n",
              "    .dataframe thead th {\n",
              "        text-align: right;\n",
              "    }\n",
              "</style>\n",
              "<table border=\"1\" class=\"dataframe\">\n",
              "  <thead>\n",
              "    <tr style=\"text-align: right;\">\n",
              "      <th></th>\n",
              "      <th>per_white</th>\n",
              "      <th>per_nonwhite</th>\n",
              "    </tr>\n",
              "  </thead>\n",
              "  <tbody>\n",
              "    <tr>\n",
              "      <th>Block Group 2, Census Tract 102, New Castle County, Delaware: Summary level: 150, state:10&gt; county:003&gt; tract:010200&gt; block group:2</th>\n",
              "      <td>57.938144</td>\n",
              "      <td>42.061856</td>\n",
              "    </tr>\n",
              "    <tr>\n",
              "      <th>Block Group 1, Census Tract 103, New Castle County, Delaware: Summary level: 150, state:10&gt; county:003&gt; tract:010300&gt; block group:1</th>\n",
              "      <td>89.495366</td>\n",
              "      <td>10.504634</td>\n",
              "    </tr>\n",
              "    <tr>\n",
              "      <th>Block Group 2, Census Tract 103, New Castle County, Delaware: Summary level: 150, state:10&gt; county:003&gt; tract:010300&gt; block group:2</th>\n",
              "      <td>55.073222</td>\n",
              "      <td>44.926778</td>\n",
              "    </tr>\n",
              "    <tr>\n",
              "      <th>Block Group 3, Census Tract 103, New Castle County, Delaware: Summary level: 150, state:10&gt; county:003&gt; tract:010300&gt; block group:3</th>\n",
              "      <td>50.515464</td>\n",
              "      <td>49.484536</td>\n",
              "    </tr>\n",
              "    <tr>\n",
              "      <th>Block Group 1, Census Tract 104, New Castle County, Delaware: Summary level: 150, state:10&gt; county:003&gt; tract:010400&gt; block group:1</th>\n",
              "      <td>93.717949</td>\n",
              "      <td>6.282051</td>\n",
              "    </tr>\n",
              "    <tr>\n",
              "      <th>...</th>\n",
              "      <td>...</td>\n",
              "      <td>...</td>\n",
              "    </tr>\n",
              "    <tr>\n",
              "      <th>Block Group 2, Census Tract 518.01, Sussex County, Delaware: Summary level: 150, state:10&gt; county:005&gt; tract:051801&gt; block group:2</th>\n",
              "      <td>78.235025</td>\n",
              "      <td>21.764975</td>\n",
              "    </tr>\n",
              "    <tr>\n",
              "      <th>Block Group 1, Census Tract 518.02, Sussex County, Delaware: Summary level: 150, state:10&gt; county:005&gt; tract:051802&gt; block group:1</th>\n",
              "      <td>42.200957</td>\n",
              "      <td>57.799043</td>\n",
              "    </tr>\n",
              "    <tr>\n",
              "      <th>Block Group 2, Census Tract 518.02, Sussex County, Delaware: Summary level: 150, state:10&gt; county:005&gt; tract:051802&gt; block group:2</th>\n",
              "      <td>68.238994</td>\n",
              "      <td>31.761006</td>\n",
              "    </tr>\n",
              "    <tr>\n",
              "      <th>Block Group 1, Census Tract 519, Sussex County, Delaware: Summary level: 150, state:10&gt; county:005&gt; tract:051900&gt; block group:1</th>\n",
              "      <td>91.909814</td>\n",
              "      <td>8.090186</td>\n",
              "    </tr>\n",
              "    <tr>\n",
              "      <th>Block Group 2, Census Tract 519, Sussex County, Delaware: Summary level: 150, state:10&gt; county:005&gt; tract:051900&gt; block group:2</th>\n",
              "      <td>79.966387</td>\n",
              "      <td>20.033613</td>\n",
              "    </tr>\n",
              "  </tbody>\n",
              "</table>\n",
              "<p>570 rows × 2 columns</p>\n",
              "</div>"
            ],
            "text/plain": [
              "                                                    per_white  per_nonwhite\n",
              "Block Group 2, Census Tract 102, New Castle Cou...  57.938144     42.061856\n",
              "Block Group 1, Census Tract 103, New Castle Cou...  89.495366     10.504634\n",
              "Block Group 2, Census Tract 103, New Castle Cou...  55.073222     44.926778\n",
              "Block Group 3, Census Tract 103, New Castle Cou...  50.515464     49.484536\n",
              "Block Group 1, Census Tract 104, New Castle Cou...  93.717949      6.282051\n",
              "...                                                       ...           ...\n",
              "Block Group 2, Census Tract 518.01, Sussex Coun...  78.235025     21.764975\n",
              "Block Group 1, Census Tract 518.02, Sussex Coun...  42.200957     57.799043\n",
              "Block Group 2, Census Tract 518.02, Sussex Coun...  68.238994     31.761006\n",
              "Block Group 1, Census Tract 519, Sussex County,...  91.909814      8.090186\n",
              "Block Group 2, Census Tract 519, Sussex County,...  79.966387     20.033613\n",
              "\n",
              "[570 rows x 2 columns]"
            ]
          },
          "metadata": {
            "tags": []
          },
          "execution_count": 8
        }
      ]
    },
    {
      "cell_type": "code",
      "metadata": {
        "id": "b_n7-TCCBEZi",
        "colab_type": "code",
        "colab": {
          "base_uri": "https://localhost:8080/",
          "height": 314
        },
        "outputId": "edf83b9d-3850-4f4a-f0e9-631f80582635"
      },
      "source": [
        "de_race_cblkg.clip(0, 1e9).hist([\"per_nonwhite\"], bins=30)"
      ],
      "execution_count": null,
      "outputs": [
        {
          "output_type": "execute_result",
          "data": {
            "text/plain": [
              "array([[<matplotlib.axes._subplots.AxesSubplot object at 0x7f3c245042b0>]],\n",
              "      dtype=object)"
            ]
          },
          "metadata": {
            "tags": []
          },
          "execution_count": 9
        },
        {
          "output_type": "display_data",
          "data": {
            "image/png": "[encoded data removed]",
            "text/plain": [
              "<Figure size 432x288 with 1 Axes>"
            ]
          },
          "metadata": {
            "tags": [],
            "needs_background": "light"
          }
        }
      ]
    },
    {
      "cell_type": "markdown",
      "metadata": {
        "id": "16GK1QhdvCKf",
        "colab_type": "text"
      },
      "source": [
        "# Poverty Rate"
      ]
    },
    {
      "cell_type": "code",
      "metadata": {
        "id": "86S3dLMF_iTe",
        "colab_type": "code",
        "colab": {
          "base_uri": "https://localhost:8080/",
          "height": 756
        },
        "outputId": "d253cbf4-8c1e-4fcd-a87c-3d6b6f3c7ce1"
      },
      "source": [
        "censusdata.printtable(censusdata.censustable('acs5', 2015, 'B17010'))"
      ],
      "execution_count": null,
      "outputs": [
        {
          "output_type": "stream",
          "text": [
            "Variable     | Table                          | Label                                                    | Type \n",
            "-------------------------------------------------------------------------------------------------------------------\n",
            "B17010_001E  | B17010. Poverty Status in the  | Total:                                                   | int  \n",
            "B17010_002E  | B17010. Poverty Status in the  | Income in the past 12 months below poverty level:        | int  \n",
            "B17010_003E  | B17010. Poverty Status in the  | !! Income in the past 12 months below poverty level: Mar | int  \n",
            "B17010_004E  | B17010. Poverty Status in the  | !! !! Income in the past 12 months below poverty level:  | int  \n",
            "B17010_005E  | B17010. Poverty Status in the  | !! !! !! Income in the past 12 months below poverty leve | int  \n",
            "B17010_006E  | B17010. Poverty Status in the  | !! !! !! Income in the past 12 months below poverty leve | int  \n",
            "B17010_007E  | B17010. Poverty Status in the  | !! !! !! Income in the past 12 months below poverty leve | int  \n",
            "B17010_008E  | B17010. Poverty Status in the  | !! !! Income in the past 12 months below poverty level:  | int  \n",
            "B17010_009E  | B17010. Poverty Status in the  | !! Income in the past 12 months below poverty level: Oth | int  \n",
            "B17010_010E  | B17010. Poverty Status in the  | !! !! Income in the past 12 months below poverty level:  | int  \n",
            "B17010_011E  | B17010. Poverty Status in the  | !! !! !! Income in the past 12 months below poverty leve | int  \n",
            "B17010_012E  | B17010. Poverty Status in the  | !! !! !! !! Income in the past 12 months below poverty l | int  \n",
            "B17010_013E  | B17010. Poverty Status in the  | !! !! !! !! Income in the past 12 months below poverty l | int  \n",
            "B17010_014E  | B17010. Poverty Status in the  | !! !! !! !! Income in the past 12 months below poverty l | int  \n",
            "B17010_015E  | B17010. Poverty Status in the  | !! !! !! Income in the past 12 months below poverty leve | int  \n",
            "B17010_016E  | B17010. Poverty Status in the  | !! !! Income in the past 12 months below poverty level:  | int  \n",
            "B17010_017E  | B17010. Poverty Status in the  | !! !! !! Income in the past 12 months below poverty leve | int  \n",
            "B17010_018E  | B17010. Poverty Status in the  | !! !! !! !! Income in the past 12 months below poverty l | int  \n",
            "B17010_019E  | B17010. Poverty Status in the  | !! !! !! !! Income in the past 12 months below poverty l | int  \n",
            "B17010_020E  | B17010. Poverty Status in the  | !! !! !! !! Income in the past 12 months below poverty l | int  \n",
            "B17010_021E  | B17010. Poverty Status in the  | !! !! !! Income in the past 12 months below poverty leve | int  \n",
            "B17010_022E  | B17010. Poverty Status in the  | Income in the past 12 months at or above poverty level:  | int  \n",
            "B17010_023E  | B17010. Poverty Status in the  | !! Income in the past 12 months at or above poverty leve | int  \n",
            "B17010_024E  | B17010. Poverty Status in the  | !! !! Income in the past 12 months at or above poverty l | int  \n",
            "B17010_025E  | B17010. Poverty Status in the  | !! !! !! Income in the past 12 months at or above povert | int  \n",
            "B17010_026E  | B17010. Poverty Status in the  | !! !! !! Income in the past 12 months at or above povert | int  \n",
            "B17010_027E  | B17010. Poverty Status in the  | !! !! !! Income in the past 12 months at or above povert | int  \n",
            "B17010_028E  | B17010. Poverty Status in the  | !! !! Income in the past 12 months at or above poverty l | int  \n",
            "B17010_029E  | B17010. Poverty Status in the  | !! Income in the past 12 months at or above poverty leve | int  \n",
            "B17010_030E  | B17010. Poverty Status in the  | !! !! Income in the past 12 months at or above poverty l | int  \n",
            "B17010_031E  | B17010. Poverty Status in the  | !! !! !! Income in the past 12 months at or above povert | int  \n",
            "B17010_032E  | B17010. Poverty Status in the  | !! !! !! !! Income in the past 12 months at or above pov | int  \n",
            "B17010_033E  | B17010. Poverty Status in the  | !! !! !! !! Income in the past 12 months at or above pov | int  \n",
            "B17010_034E  | B17010. Poverty Status in the  | !! !! !! !! Income in the past 12 months at or above pov | int  \n",
            "B17010_035E  | B17010. Poverty Status in the  | !! !! !! Income in the past 12 months at or above povert | int  \n",
            "B17010_036E  | B17010. Poverty Status in the  | !! !! Income in the past 12 months at or above poverty l | int  \n",
            "B17010_037E  | B17010. Poverty Status in the  | !! !! !! Income in the past 12 months at or above povert | int  \n",
            "B17010_038E  | B17010. Poverty Status in the  | !! !! !! !! Income in the past 12 months at or above pov | int  \n",
            "B17010_039E  | B17010. Poverty Status in the  | !! !! !! !! Income in the past 12 months at or above pov | int  \n",
            "B17010_040E  | B17010. Poverty Status in the  | !! !! !! !! Income in the past 12 months at or above pov | int  \n",
            "B17010_041E  | B17010. Poverty Status in the  | !! !! !! Income in the past 12 months at or above povert | int  \n",
            "-------------------------------------------------------------------------------------------------------------------\n"
          ],
          "name": "stdout"
        }
      ]
    },
    {
      "cell_type": "code",
      "metadata": {
        "id": "YbuPe9D46y9M",
        "colab_type": "code",
        "colab": {
          "base_uri": "https://localhost:8080/",
          "height": 419
        },
        "outputId": "283812f4-5f02-496f-a8d5-fb09df2b55bb"
      },
      "source": [
        "censusdata.geographies(censusdata.censusgeo([('state', '*')]), 'acs5', 2015)\n",
        "censusdata.geographies(censusdata.censusgeo([('state', '10'), ('county', '*')]), 'acs5', 2015)\n",
        "poverty_cblkg = censusdata.download('acs5', 2015, censusdata.censusgeo([('state', '10'), ('county', '001'), ('block group', '*')]), [\"B17010_001E\", \"B17010_002E\"])\n",
        "de_poverty_cblkg  = pd.concat([censusdata.download('acs5', 2015, censusdata.censusgeo([('state', '10'), ('county', i), ('block group', '*')]), [\"B17010_001E\", \"B17010_002E\"]) for i in [\"003\", \"001\", \"005\"]])\n",
        "de_poverty_cblkg['per_below_povlev'] = de_poverty_cblkg[\"B17010_002E\"] / de_poverty_cblkg[\"B17010_001E\"] * 100\n",
        "de_poverty_cblkg = de_poverty_cblkg[['per_below_povlev']].dropna()\n",
        "de_poverty_cblkg"
      ],
      "execution_count": null,
      "outputs": [
        {
          "output_type": "execute_result",
          "data": {
            "text/html": [
              "<div>\n",
              "<style scoped>\n",
              "    .dataframe tbody tr th:only-of-type {\n",
              "        vertical-align: middle;\n",
              "    }\n",
              "\n",
              "    .dataframe tbody tr th {\n",
              "        vertical-align: top;\n",
              "    }\n",
              "\n",
              "    .dataframe thead th {\n",
              "        text-align: right;\n",
              "    }\n",
              "</style>\n",
              "<table border=\"1\" class=\"dataframe\">\n",
              "  <thead>\n",
              "    <tr style=\"text-align: right;\">\n",
              "      <th></th>\n",
              "      <th>per_below_povlev</th>\n",
              "    </tr>\n",
              "  </thead>\n",
              "  <tbody>\n",
              "    <tr>\n",
              "      <th>Block Group 2, Census Tract 102, New Castle County, Delaware: Summary level: 150, state:10&gt; county:003&gt; tract:010200&gt; block group:2</th>\n",
              "      <td>0.000000</td>\n",
              "    </tr>\n",
              "    <tr>\n",
              "      <th>Block Group 1, Census Tract 103, New Castle County, Delaware: Summary level: 150, state:10&gt; county:003&gt; tract:010300&gt; block group:1</th>\n",
              "      <td>4.566210</td>\n",
              "    </tr>\n",
              "    <tr>\n",
              "      <th>Block Group 2, Census Tract 103, New Castle County, Delaware: Summary level: 150, state:10&gt; county:003&gt; tract:010300&gt; block group:2</th>\n",
              "      <td>8.600000</td>\n",
              "    </tr>\n",
              "    <tr>\n",
              "      <th>Block Group 3, Census Tract 103, New Castle County, Delaware: Summary level: 150, state:10&gt; county:003&gt; tract:010300&gt; block group:3</th>\n",
              "      <td>22.058824</td>\n",
              "    </tr>\n",
              "    <tr>\n",
              "      <th>Block Group 1, Census Tract 104, New Castle County, Delaware: Summary level: 150, state:10&gt; county:003&gt; tract:010400&gt; block group:1</th>\n",
              "      <td>0.000000</td>\n",
              "    </tr>\n",
              "    <tr>\n",
              "      <th>...</th>\n",
              "      <td>...</td>\n",
              "    </tr>\n",
              "    <tr>\n",
              "      <th>Block Group 2, Census Tract 518.01, Sussex County, Delaware: Summary level: 150, state:10&gt; county:005&gt; tract:051801&gt; block group:2</th>\n",
              "      <td>16.040956</td>\n",
              "    </tr>\n",
              "    <tr>\n",
              "      <th>Block Group 1, Census Tract 518.02, Sussex County, Delaware: Summary level: 150, state:10&gt; county:005&gt; tract:051802&gt; block group:1</th>\n",
              "      <td>25.644172</td>\n",
              "    </tr>\n",
              "    <tr>\n",
              "      <th>Block Group 2, Census Tract 518.02, Sussex County, Delaware: Summary level: 150, state:10&gt; county:005&gt; tract:051802&gt; block group:2</th>\n",
              "      <td>6.526807</td>\n",
              "    </tr>\n",
              "    <tr>\n",
              "      <th>Block Group 1, Census Tract 519, Sussex County, Delaware: Summary level: 150, state:10&gt; county:005&gt; tract:051900&gt; block group:1</th>\n",
              "      <td>1.895735</td>\n",
              "    </tr>\n",
              "    <tr>\n",
              "      <th>Block Group 2, Census Tract 519, Sussex County, Delaware: Summary level: 150, state:10&gt; county:005&gt; tract:051900&gt; block group:2</th>\n",
              "      <td>12.661871</td>\n",
              "    </tr>\n",
              "  </tbody>\n",
              "</table>\n",
              "<p>569 rows × 1 columns</p>\n",
              "</div>"
            ],
            "text/plain": [
              "                                                    per_below_povlev\n",
              "Block Group 2, Census Tract 102, New Castle Cou...          0.000000\n",
              "Block Group 1, Census Tract 103, New Castle Cou...          4.566210\n",
              "Block Group 2, Census Tract 103, New Castle Cou...          8.600000\n",
              "Block Group 3, Census Tract 103, New Castle Cou...         22.058824\n",
              "Block Group 1, Census Tract 104, New Castle Cou...          0.000000\n",
              "...                                                              ...\n",
              "Block Group 2, Census Tract 518.01, Sussex Coun...         16.040956\n",
              "Block Group 1, Census Tract 518.02, Sussex Coun...         25.644172\n",
              "Block Group 2, Census Tract 518.02, Sussex Coun...          6.526807\n",
              "Block Group 1, Census Tract 519, Sussex County,...          1.895735\n",
              "Block Group 2, Census Tract 519, Sussex County,...         12.661871\n",
              "\n",
              "[569 rows x 1 columns]"
            ]
          },
          "metadata": {
            "tags": []
          },
          "execution_count": 19
        }
      ]
    },
    {
      "cell_type": "code",
      "metadata": {
        "id": "C7bhKaMl6ETu",
        "colab_type": "code",
        "colab": {
          "base_uri": "https://localhost:8080/",
          "height": 315
        },
        "outputId": "57b85342-486e-41fc-e084-351534b5943b"
      },
      "source": [
        "de_poverty_cblkg.clip(0, 1e9).hist([\"per_below_povlev\"], bins=30)"
      ],
      "execution_count": null,
      "outputs": [
        {
          "output_type": "execute_result",
          "data": {
            "text/plain": [
              "array([[<matplotlib.axes._subplots.AxesSubplot object at 0x7f3c23f0c240>]],\n",
              "      dtype=object)"
            ]
          },
          "metadata": {
            "tags": []
          },
          "execution_count": 20
        },
        {
          "output_type": "display_data",
          "data": {
            "image/png": "[encoded data removed]",
            "text/plain": [
              "<Figure size 432x288 with 1 Axes>"
            ]
          },
          "metadata": {
            "tags": [],
            "needs_background": "light"
          }
        }
      ]
    },
    {
      "cell_type": "code",
      "metadata": {
        "id": "9CHvc2cyTNpW",
        "colab_type": "code",
        "colab": {}
      },
      "source": [
        ""
      ],
      "execution_count": null,
      "outputs": []
    }
  ]
}