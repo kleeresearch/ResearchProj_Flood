{
  "nbformat": 4,
  "nbformat_minor": 0,
  "metadata": {
    "colab": {
      "name": "censusdata_example_de.ipynb",
      "provenance": [],
      "collapsed_sections": [],
      "include_colab_link": true
    },
    "kernelspec": {
      "name": "python3",
      "display_name": "Python 3"
    }
  },
  "cells": [
    {
      "cell_type": "markdown",
      "metadata": {
        "id": "view-in-github",
        "colab_type": "text"
      },
      "source": [
        "<a href=\"https://colab.research.google.com/github/KLeeDE/ResearchProj_Flood/blob/master/References/censusdata_example_de.ipynb\" target=\"_parent\"><img src=\"https://colab.research.google.com/assets/colab-badge.svg\" alt=\"Open In Colab\"/></a>"
      ]
    },
    {
      "cell_type": "code",
      "metadata": {
        "id": "j3bID7htDWk9",
        "outputId": "233092d4-456e-4559-e575-901ee2196ba7",
        "colab": {
          "base_uri": "https://localhost:8080/",
          "height": 377
        }
      },
      "source": [
        "!pip install censusdata"
      ],
      "execution_count": null,
      "outputs": [
        {
          "output_type": "stream",
          "text": [
            "Collecting censusdata\n",
            "\u001b[?25l  Downloading https://files.pythonhosted.org/packages/cf/b7/864a9d8c1fe4f7f7d6735c626ed8f378f9c4b784b6631dcd2d4e85d09caa/CensusData-1.8.tar.gz (23.2MB)\n",
            "\u001b[K     |████████████████████████████████| 23.2MB 152kB/s \n",
            "\u001b[?25hRequirement already satisfied: pandas in /usr/local/lib/python3.6/dist-packages (from censusdata) (1.0.5)\n",
            "Requirement already satisfied: requests in /usr/local/lib/python3.6/dist-packages (from censusdata) (2.23.0)\n",
            "Requirement already satisfied: numpy>=1.13.3 in /usr/local/lib/python3.6/dist-packages (from pandas->censusdata) (1.18.5)\n",
            "Requirement already satisfied: pytz>=2017.2 in /usr/local/lib/python3.6/dist-packages (from pandas->censusdata) (2018.9)\n",
            "Requirement already satisfied: python-dateutil>=2.6.1 in /usr/local/lib/python3.6/dist-packages (from pandas->censusdata) (2.8.1)\n",
            "Requirement already satisfied: idna<3,>=2.5 in /usr/local/lib/python3.6/dist-packages (from requests->censusdata) (2.10)\n",
            "Requirement already satisfied: certifi>=2017.4.17 in /usr/local/lib/python3.6/dist-packages (from requests->censusdata) (2020.6.20)\n",
            "Requirement already satisfied: urllib3!=1.25.0,!=1.25.1,<1.26,>=1.21.1 in /usr/local/lib/python3.6/dist-packages (from requests->censusdata) (1.24.3)\n",
            "Requirement already satisfied: chardet<4,>=3.0.2 in /usr/local/lib/python3.6/dist-packages (from requests->censusdata) (3.0.4)\n",
            "Requirement already satisfied: six>=1.5 in /usr/local/lib/python3.6/dist-packages (from python-dateutil>=2.6.1->pandas->censusdata) (1.15.0)\n",
            "Building wheels for collected packages: censusdata\n",
            "  Building wheel for censusdata (setup.py) ... \u001b[?25l\u001b[?25hdone\n",
            "  Created wheel for censusdata: filename=CensusData-1.8-cp36-none-any.whl size=24706121 sha256=d559d4644d911c4162343976ce6edc80f79f98201c831ceee9ead48d581ca5c4\n",
            "  Stored in directory: /root/.cache/pip/wheels/76/04/a7/086077b0f4dee8f4c81dc16389b84a1add31d6626f3e0985fd\n",
            "Successfully built censusdata\n",
            "Installing collected packages: censusdata\n",
            "Successfully installed censusdata-1.8\n"
          ],
          "name": "stdout"
        }
      ]
    },
    {
      "cell_type": "code",
      "metadata": {
        "id": "VIkzfsy2Dk5H"
      },
      "source": [
        "import censusdata"
      ],
      "execution_count": null,
      "outputs": []
    },
    {
      "cell_type": "code",
      "metadata": {
        "id": "57NPfxx6D7V4",
        "outputId": "465a2c90-29cb-473c-f9f4-fd8b4c4ddd30",
        "colab": {
          "base_uri": "https://localhost:8080/",
          "height": 153
        }
      },
      "source": [
        "censusdata.printtable(censusdata.censustable('acs5', 2015, 'B19049'))\n"
      ],
      "execution_count": null,
      "outputs": [
        {
          "output_type": "stream",
          "text": [
            "Variable     | Table                          | Label                                                    | Type \n",
            "-------------------------------------------------------------------------------------------------------------------\n",
            "B19049_001E  | B19049. Median Household Incom | !! Median household income in the past 12 months (in 201 | int  \n",
            "B19049_002E  | B19049. Median Household Incom | !! Median household income in the past 12 months (in 201 | int  \n",
            "B19049_003E  | B19049. Median Household Incom | !! Median household income in the past 12 months (in 201 | int  \n",
            "B19049_004E  | B19049. Median Household Incom | !! Median household income in the past 12 months (in 201 | int  \n",
            "B19049_005E  | B19049. Median Household Incom | !! Median household income in the past 12 months (in 201 | int  \n",
            "-------------------------------------------------------------------------------------------------------------------\n"
          ],
          "name": "stdout"
        }
      ]
    },
    {
      "cell_type": "code",
      "metadata": {
        "id": "JFTu9DepKNWu",
        "outputId": "79bb502b-4292-4431-b0c5-7b0f04cf94b3",
        "colab": {
          "base_uri": "https://localhost:8080/",
          "height": 717
        }
      },
      "source": [
        "censusdata.censustable('acs5', 2015, 'B19049')"
      ],
      "execution_count": null,
      "outputs": [
        {
          "output_type": "execute_result",
          "data": {
            "text/plain": [
              "OrderedDict([('B19049_001E',\n",
              "              {'concept': 'B19049. Median Household Income in the Past 12 Months (in 2015 Inflation-Adjusted Dollars) by Age of Householder',\n",
              "               'label': 'Median household income in the past 12 months (in 2015 Inflation-adjusted dollars) --!!Total:',\n",
              "               'predicateType': 'int'}),\n",
              "             ('B19049_001M',\n",
              "              {'concept': 'B19049. Median Household Income in the Past 12 Months (in 2015 Inflation-Adjusted Dollars) by Age of Householder',\n",
              "               'label': 'Margin of Error for!!Median household income in the past 12 months (in 2015 Inflation-adjusted dollars) --!!Total:',\n",
              "               'predicateType': 'int'}),\n",
              "             ('B19049_002E',\n",
              "              {'concept': 'B19049. Median Household Income in the Past 12 Months (in 2015 Inflation-Adjusted Dollars) by Age of Householder',\n",
              "               'label': 'Median household income in the past 12 months (in 2015 Inflation-adjusted dollars) --!!Householder under 25 years',\n",
              "               'predicateType': 'int'}),\n",
              "             ('B19049_002M',\n",
              "              {'concept': 'B19049. Median Household Income in the Past 12 Months (in 2015 Inflation-Adjusted Dollars) by Age of Householder',\n",
              "               'label': 'Margin of Error for!!Median household income in the past 12 months (in 2015 Inflation-adjusted dollars) --!!Householder under 25 years',\n",
              "               'predicateType': 'int'}),\n",
              "             ('B19049_003E',\n",
              "              {'concept': 'B19049. Median Household Income in the Past 12 Months (in 2015 Inflation-Adjusted Dollars) by Age of Householder',\n",
              "               'label': 'Median household income in the past 12 months (in 2015 Inflation-adjusted dollars) --!!Householder 25 to 44 years',\n",
              "               'predicateType': 'int'}),\n",
              "             ('B19049_003M',\n",
              "              {'concept': 'B19049. Median Household Income in the Past 12 Months (in 2015 Inflation-Adjusted Dollars) by Age of Householder',\n",
              "               'label': 'Margin of Error for!!Median household income in the past 12 months (in 2015 Inflation-adjusted dollars) --!!Householder 25 to 44 years',\n",
              "               'predicateType': 'int'}),\n",
              "             ('B19049_004E',\n",
              "              {'concept': 'B19049. Median Household Income in the Past 12 Months (in 2015 Inflation-Adjusted Dollars) by Age of Householder',\n",
              "               'label': 'Median household income in the past 12 months (in 2015 Inflation-adjusted dollars) --!!Householder 45 to 64 years',\n",
              "               'predicateType': 'int'}),\n",
              "             ('B19049_004M',\n",
              "              {'concept': 'B19049. Median Household Income in the Past 12 Months (in 2015 Inflation-Adjusted Dollars) by Age of Householder',\n",
              "               'label': 'Margin of Error for!!Median household income in the past 12 months (in 2015 Inflation-adjusted dollars) --!!Householder 45 to 64 years',\n",
              "               'predicateType': 'int'}),\n",
              "             ('B19049_005E',\n",
              "              {'concept': 'B19049. Median Household Income in the Past 12 Months (in 2015 Inflation-Adjusted Dollars) by Age of Householder',\n",
              "               'label': 'Median household income in the past 12 months (in 2015 Inflation-adjusted dollars) --!!Householder 65 years and over',\n",
              "               'predicateType': 'int'}),\n",
              "             ('B19049_005M',\n",
              "              {'concept': 'B19049. Median Household Income in the Past 12 Months (in 2015 Inflation-Adjusted Dollars) by Age of Householder',\n",
              "               'label': 'Margin of Error for!!Median household income in the past 12 months (in 2015 Inflation-adjusted dollars) --!!Householder 65 years and over',\n",
              "               'predicateType': 'int'})])"
            ]
          },
          "metadata": {
            "tags": []
          },
          "execution_count": 11
        }
      ]
    },
    {
      "cell_type": "code",
      "metadata": {
        "id": "bou31EDhEB3t",
        "outputId": "c5fb4ac7-2a08-42a9-a36c-ddfba96902db",
        "colab": {
          "base_uri": "https://localhost:8080/",
          "height": 493
        }
      },
      "source": [
        "censusdata.printtable(censusdata.censustable('acs5', 2015, 'B15003'))"
      ],
      "execution_count": null,
      "outputs": [
        {
          "output_type": "stream",
          "text": [
            "Variable     | Table                          | Label                                                    | Type \n",
            "-------------------------------------------------------------------------------------------------------------------\n",
            "B15003_001E  | B15003.  Educational Attainmen | Total:                                                   | int  \n",
            "B15003_002E  | B15003.  Educational Attainmen | No schooling completed                                   | int  \n",
            "B15003_003E  | B15003.  Educational Attainmen | Nursery school                                           | int  \n",
            "B15003_004E  | B15003.  Educational Attainmen | Kindergarten                                             | int  \n",
            "B15003_005E  | B15003.  Educational Attainmen | 1st grade                                                | int  \n",
            "B15003_006E  | B15003.  Educational Attainmen | 2nd grade                                                | int  \n",
            "B15003_007E  | B15003.  Educational Attainmen | 3rd grade                                                | int  \n",
            "B15003_008E  | B15003.  Educational Attainmen | 4th grade                                                | int  \n",
            "B15003_009E  | B15003.  Educational Attainmen | 5th grade                                                | int  \n",
            "B15003_010E  | B15003.  Educational Attainmen | 6th grade                                                | int  \n",
            "B15003_011E  | B15003.  Educational Attainmen | 7th grade                                                | int  \n",
            "B15003_012E  | B15003.  Educational Attainmen | 8th grade                                                | int  \n",
            "B15003_013E  | B15003.  Educational Attainmen | 9th grade                                                | int  \n",
            "B15003_014E  | B15003.  Educational Attainmen | 10th grade                                               | int  \n",
            "B15003_015E  | B15003.  Educational Attainmen | 11th grade                                               | int  \n",
            "B15003_016E  | B15003.  Educational Attainmen | 12th grade, no diploma                                   | int  \n",
            "B15003_017E  | B15003.  Educational Attainmen | Regular high school diploma                              | int  \n",
            "B15003_018E  | B15003.  Educational Attainmen | GED or alternative credential                            | int  \n",
            "B15003_019E  | B15003.  Educational Attainmen | Some college, less than 1 year                           | int  \n",
            "B15003_020E  | B15003.  Educational Attainmen | Some college, 1 or more years, no degree                 | int  \n",
            "B15003_021E  | B15003.  Educational Attainmen | Associate's degree                                       | int  \n",
            "B15003_022E  | B15003.  Educational Attainmen | Bachelor's degree                                        | int  \n",
            "B15003_023E  | B15003.  Educational Attainmen | Master's degree                                          | int  \n",
            "B15003_024E  | B15003.  Educational Attainmen | Professional school degree                               | int  \n",
            "B15003_025E  | B15003.  Educational Attainmen | Doctorate degree                                         | int  \n",
            "-------------------------------------------------------------------------------------------------------------------\n"
          ],
          "name": "stdout"
        }
      ]
    },
    {
      "cell_type": "code",
      "metadata": {
        "id": "tZoRBfoAEETc",
        "outputId": "1dfbdd82-60f0-4946-809e-c33a542fad22",
        "colab": {
          "base_uri": "https://localhost:8080/",
          "height": 901
        }
      },
      "source": [
        "censusdata.geographies(censusdata.censusgeo([('state', '*')]), 'acs5', 2015)"
      ],
      "execution_count": null,
      "outputs": [
        {
          "output_type": "execute_result",
          "data": {
            "text/plain": [
              "{'Alabama': censusgeo((('state', '01'),)),\n",
              " 'Alaska': censusgeo((('state', '02'),)),\n",
              " 'Arizona': censusgeo((('state', '04'),)),\n",
              " 'Arkansas': censusgeo((('state', '05'),)),\n",
              " 'California': censusgeo((('state', '06'),)),\n",
              " 'Colorado': censusgeo((('state', '08'),)),\n",
              " 'Connecticut': censusgeo((('state', '09'),)),\n",
              " 'Delaware': censusgeo((('state', '10'),)),\n",
              " 'District of Columbia': censusgeo((('state', '11'),)),\n",
              " 'Florida': censusgeo((('state', '12'),)),\n",
              " 'Georgia': censusgeo((('state', '13'),)),\n",
              " 'Hawaii': censusgeo((('state', '15'),)),\n",
              " 'Idaho': censusgeo((('state', '16'),)),\n",
              " 'Illinois': censusgeo((('state', '17'),)),\n",
              " 'Indiana': censusgeo((('state', '18'),)),\n",
              " 'Iowa': censusgeo((('state', '19'),)),\n",
              " 'Kansas': censusgeo((('state', '20'),)),\n",
              " 'Kentucky': censusgeo((('state', '21'),)),\n",
              " 'Louisiana': censusgeo((('state', '22'),)),\n",
              " 'Maine': censusgeo((('state', '23'),)),\n",
              " 'Maryland': censusgeo((('state', '24'),)),\n",
              " 'Massachusetts': censusgeo((('state', '25'),)),\n",
              " 'Michigan': censusgeo((('state', '26'),)),\n",
              " 'Minnesota': censusgeo((('state', '27'),)),\n",
              " 'Mississippi': censusgeo((('state', '28'),)),\n",
              " 'Missouri': censusgeo((('state', '29'),)),\n",
              " 'Montana': censusgeo((('state', '30'),)),\n",
              " 'Nebraska': censusgeo((('state', '31'),)),\n",
              " 'Nevada': censusgeo((('state', '32'),)),\n",
              " 'New Hampshire': censusgeo((('state', '33'),)),\n",
              " 'New Jersey': censusgeo((('state', '34'),)),\n",
              " 'New Mexico': censusgeo((('state', '35'),)),\n",
              " 'New York': censusgeo((('state', '36'),)),\n",
              " 'North Carolina': censusgeo((('state', '37'),)),\n",
              " 'North Dakota': censusgeo((('state', '38'),)),\n",
              " 'Ohio': censusgeo((('state', '39'),)),\n",
              " 'Oklahoma': censusgeo((('state', '40'),)),\n",
              " 'Oregon': censusgeo((('state', '41'),)),\n",
              " 'Pennsylvania': censusgeo((('state', '42'),)),\n",
              " 'Puerto Rico': censusgeo((('state', '72'),)),\n",
              " 'Rhode Island': censusgeo((('state', '44'),)),\n",
              " 'South Carolina': censusgeo((('state', '45'),)),\n",
              " 'South Dakota': censusgeo((('state', '46'),)),\n",
              " 'Tennessee': censusgeo((('state', '47'),)),\n",
              " 'Texas': censusgeo((('state', '48'),)),\n",
              " 'Utah': censusgeo((('state', '49'),)),\n",
              " 'Vermont': censusgeo((('state', '50'),)),\n",
              " 'Virginia': censusgeo((('state', '51'),)),\n",
              " 'Washington': censusgeo((('state', '53'),)),\n",
              " 'West Virginia': censusgeo((('state', '54'),)),\n",
              " 'Wisconsin': censusgeo((('state', '55'),)),\n",
              " 'Wyoming': censusgeo((('state', '56'),))}"
            ]
          },
          "metadata": {
            "tags": []
          },
          "execution_count": 3
        }
      ]
    },
    {
      "cell_type": "code",
      "metadata": {
        "id": "vQCHVrCBEHAQ",
        "outputId": "dc4b93b6-8f32-4c93-e637-2c0b8a988253",
        "colab": {
          "base_uri": "https://localhost:8080/",
          "height": 68
        }
      },
      "source": [
        "censusdata.geographies(censusdata.censusgeo([('state', '10'), ('county', '*')]), 'acs5', 2015)"
      ],
      "execution_count": null,
      "outputs": [
        {
          "output_type": "execute_result",
          "data": {
            "text/plain": [
              "{'Kent County, Delaware': censusgeo((('state', '10'), ('county', '001'))),\n",
              " 'New Castle County, Delaware': censusgeo((('state', '10'), ('county', '003'))),\n",
              " 'Sussex County, Delaware': censusgeo((('state', '10'), ('county', '005')))}"
            ]
          },
          "metadata": {
            "tags": []
          },
          "execution_count": 4
        }
      ]
    },
    {
      "cell_type": "code",
      "metadata": {
        "id": "i28xAUwEI1_G"
      },
      "source": [
        "cookbg = censusdata.download('acs5', 2015,\n",
        "                             censusdata.censusgeo([('state', '10'), ('county', '001'), ('block group', '*')]),\n",
        "                             [\"B19049_001E\"])"
      ],
      "execution_count": null,
      "outputs": []
    },
    {
      "cell_type": "code",
      "metadata": {
        "id": "3rYpb9goM_Ni"
      },
      "source": [
        "import pandas as pd"
      ],
      "execution_count": null,
      "outputs": []
    },
    {
      "cell_type": "code",
      "metadata": {
        "id": "r0aYmfzBLayd"
      },
      "source": [
        "deinc = pd.concat([censusdata.download('acs5', 2015, \n",
        "                      censusdata.censusgeo([('state', '10'), ('county', i), \n",
        "                                            ('block group', '*')]), \n",
        "                                       [\"B19049_001E\"]) for i in \n",
        "                   [\"003\", \"001\", \"005\"]])"
      ],
      "execution_count": null,
      "outputs": []
    },
    {
      "cell_type": "code",
      "metadata": {
        "id": "FU87qUevMFiB",
        "outputId": "48058826-1f2a-40fe-efdb-72cf5837cde8",
        "colab": {
          "base_uri": "https://localhost:8080/",
          "height": 419
        }
      },
      "source": [
        "deinc"
      ],
      "execution_count": null,
      "outputs": [
        {
          "output_type": "execute_result",
          "data": {
            "text/html": [
              "<div>\n",
              "<style scoped>\n",
              "    .dataframe tbody tr th:only-of-type {\n",
              "        vertical-align: middle;\n",
              "    }\n",
              "\n",
              "    .dataframe tbody tr th {\n",
              "        vertical-align: top;\n",
              "    }\n",
              "\n",
              "    .dataframe thead th {\n",
              "        text-align: right;\n",
              "    }\n",
              "</style>\n",
              "<table border=\"1\" class=\"dataframe\">\n",
              "  <thead>\n",
              "    <tr style=\"text-align: right;\">\n",
              "      <th></th>\n",
              "      <th>B19049_001E</th>\n",
              "    </tr>\n",
              "  </thead>\n",
              "  <tbody>\n",
              "    <tr>\n",
              "      <th>Block Group 2, Census Tract 102, New Castle County, Delaware: Summary level: 150, state:10&gt; county:003&gt; tract:010200&gt; block group:2</th>\n",
              "      <td>66012.0</td>\n",
              "    </tr>\n",
              "    <tr>\n",
              "      <th>Block Group 1, Census Tract 103, New Castle County, Delaware: Summary level: 150, state:10&gt; county:003&gt; tract:010300&gt; block group:1</th>\n",
              "      <td>78750.0</td>\n",
              "    </tr>\n",
              "    <tr>\n",
              "      <th>Block Group 2, Census Tract 103, New Castle County, Delaware: Summary level: 150, state:10&gt; county:003&gt; tract:010300&gt; block group:2</th>\n",
              "      <td>47946.0</td>\n",
              "    </tr>\n",
              "    <tr>\n",
              "      <th>Block Group 3, Census Tract 103, New Castle County, Delaware: Summary level: 150, state:10&gt; county:003&gt; tract:010300&gt; block group:3</th>\n",
              "      <td>NaN</td>\n",
              "    </tr>\n",
              "    <tr>\n",
              "      <th>Block Group 1, Census Tract 104, New Castle County, Delaware: Summary level: 150, state:10&gt; county:003&gt; tract:010400&gt; block group:1</th>\n",
              "      <td>NaN</td>\n",
              "    </tr>\n",
              "    <tr>\n",
              "      <th>...</th>\n",
              "      <td>...</td>\n",
              "    </tr>\n",
              "    <tr>\n",
              "      <th>Block Group 1, Census Tract 518.02, Sussex County, Delaware: Summary level: 150, state:10&gt; county:005&gt; tract:051802&gt; block group:1</th>\n",
              "      <td>NaN</td>\n",
              "    </tr>\n",
              "    <tr>\n",
              "      <th>Block Group 2, Census Tract 518.02, Sussex County, Delaware: Summary level: 150, state:10&gt; county:005&gt; tract:051802&gt; block group:2</th>\n",
              "      <td>47404.0</td>\n",
              "    </tr>\n",
              "    <tr>\n",
              "      <th>Block Group 1, Census Tract 519, Sussex County, Delaware: Summary level: 150, state:10&gt; county:005&gt; tract:051900&gt; block group:1</th>\n",
              "      <td>51422.0</td>\n",
              "    </tr>\n",
              "    <tr>\n",
              "      <th>Block Group 2, Census Tract 519, Sussex County, Delaware: Summary level: 150, state:10&gt; county:005&gt; tract:051900&gt; block group:2</th>\n",
              "      <td>39205.0</td>\n",
              "    </tr>\n",
              "    <tr>\n",
              "      <th>Block Group 0, Census Tract 9900, Sussex County, Delaware: Summary level: 150, state:10&gt; county:005&gt; tract:990000&gt; block group:0</th>\n",
              "      <td>-666666666.0</td>\n",
              "    </tr>\n",
              "  </tbody>\n",
              "</table>\n",
              "<p>574 rows × 1 columns</p>\n",
              "</div>"
            ],
            "text/plain": [
              "                                                    B19049_001E\n",
              "Block Group 2, Census Tract 102, New Castle Cou...      66012.0\n",
              "Block Group 1, Census Tract 103, New Castle Cou...      78750.0\n",
              "Block Group 2, Census Tract 103, New Castle Cou...      47946.0\n",
              "Block Group 3, Census Tract 103, New Castle Cou...          NaN\n",
              "Block Group 1, Census Tract 104, New Castle Cou...          NaN\n",
              "...                                                         ...\n",
              "Block Group 1, Census Tract 518.02, Sussex Coun...          NaN\n",
              "Block Group 2, Census Tract 518.02, Sussex Coun...      47404.0\n",
              "Block Group 1, Census Tract 519, Sussex County,...      51422.0\n",
              "Block Group 2, Census Tract 519, Sussex County,...      39205.0\n",
              "Block Group 0, Census Tract 9900, Sussex County... -666666666.0\n",
              "\n",
              "[574 rows x 1 columns]"
            ]
          },
          "metadata": {
            "tags": []
          },
          "execution_count": 34
        }
      ]
    },
    {
      "cell_type": "code",
      "metadata": {
        "id": "VjjDR-R8Er-a",
        "outputId": "4d50199c-0306-4af1-fc02-0a3a48299600",
        "colab": {
          "base_uri": "https://localhost:8080/",
          "height": 315
        }
      },
      "source": [
        "deinc.clip(0, 1e9).hist([\"B19049_001E\"], bins=30)"
      ],
      "execution_count": null,
      "outputs": [
        {
          "output_type": "execute_result",
          "data": {
            "text/plain": [
              "array([[<matplotlib.axes._subplots.AxesSubplot object at 0x7f2cc3760e48>]],\n",
              "      dtype=object)"
            ]
          },
          "metadata": {
            "tags": []
          },
          "execution_count": 35
        },
        {
          "output_type": "display_data",
          "data": {
            "image/png": "[encoded data removed]",
            "text/plain": [
              "<Figure size 432x288 with 1 Axes>"
            ]
          },
          "metadata": {
            "tags": [],
            "needs_background": "light"
          }
        }
      ]
    },
    {
      "cell_type": "code",
      "metadata": {
        "id": "BejmzOQuF4B7"
      },
      "source": [
        "import numpy as np"
      ],
      "execution_count": null,
      "outputs": []
    },
    {
      "cell_type": "code",
      "metadata": {
        "id": "5N_1CuNwFXtd",
        "outputId": "7b234a41-5927-4522-b417-ea94d95491a3",
        "colab": {
          "base_uri": "https://localhost:8080/",
          "height": 51
        }
      },
      "source": [
        "cookbg['percent_unemployed'] = cookbg.B23025_005E / cookbg.B23025_003E * 100\n",
        "cookbg['log_percent_unemployed'] = np.log10(cookbg.B23025_005E / cookbg.B23025_003E * 100).clip(1e-3, 100)\n"
      ],
      "execution_count": null,
      "outputs": [
        {
          "output_type": "stream",
          "text": [
            "/usr/local/lib/python3.6/dist-packages/pandas/core/series.py:679: RuntimeWarning: divide by zero encountered in log10\n",
            "  result = getattr(ufunc, method)(*inputs, **kwargs)\n"
          ],
          "name": "stderr"
        }
      ]
    },
    {
      "cell_type": "code",
      "metadata": {
        "id": "bJe_PaDfFlbE",
        "outputId": "a1958e09-b961-4915-b6ed-0d8eeed308d9",
        "colab": {
          "base_uri": "https://localhost:8080/",
          "height": 315
        }
      },
      "source": [
        "cookbg.hist(\"log_percent_unemployed\", bins=100)"
      ],
      "execution_count": null,
      "outputs": [
        {
          "output_type": "execute_result",
          "data": {
            "text/plain": [
              "array([[<matplotlib.axes._subplots.AxesSubplot object at 0x7fd7fbd68588>]],\n",
              "      dtype=object)"
            ]
          },
          "metadata": {
            "tags": []
          },
          "execution_count": 25
        },
        {
          "output_type": "display_data",
          "data": {
            "image/png": "[encoded data removed]",
            "text/plain": [
              "<Figure size 432x288 with 1 Axes>"
            ]
          },
          "metadata": {
            "tags": [],
            "needs_background": "light"
          }
        }
      ]
    },
    {
      "cell_type": "code",
      "metadata": {
        "id": "1RVhRpRAFp5M"
      },
      "source": [
        "cookbg['percent_nohs'] = (cookbg.B15003_002E + cookbg.B15003_003E + cookbg.B15003_004E\n",
        "                          + cookbg.B15003_005E + cookbg.B15003_006E + cookbg.B15003_007E + cookbg.B15003_008E\n",
        "                          + cookbg.B15003_009E + cookbg.B15003_010E + cookbg.B15003_011E + cookbg.B15003_012E\n",
        "                          + cookbg.B15003_013E + cookbg.B15003_014E +\n",
        "                          cookbg.B15003_015E + cookbg.B15003_016E) / cookbg.B15003_001E * 100"
      ],
      "execution_count": null,
      "outputs": []
    },
    {
      "cell_type": "code",
      "metadata": {
        "id": "JznVUSWdGnRA",
        "outputId": "0385663a-e6d3-4236-d3a0-532c85ea1f6e",
        "colab": {
          "base_uri": "https://localhost:8080/",
          "height": 315
        }
      },
      "source": [
        "cookbg.hist(\"percent_nohs\", bins=100)"
      ],
      "execution_count": null,
      "outputs": [
        {
          "output_type": "execute_result",
          "data": {
            "text/plain": [
              "array([[<matplotlib.axes._subplots.AxesSubplot object at 0x7fd7faf46518>]],\n",
              "      dtype=object)"
            ]
          },
          "metadata": {
            "tags": []
          },
          "execution_count": 27
        },
        {
          "output_type": "display_data",
          "data": {
            "image/png": "[encoded data removed]",
            "text/plain": [
              "<Figure size 432x288 with 1 Axes>"
            ]
          },
          "metadata": {
            "tags": [],
            "needs_background": "light"
          }
        }
      ]
    },
    {
      "cell_type": "code",
      "metadata": {
        "id": "EZArGDTVGvUF"
      },
      "source": [
        "cookbg_sub = cookbg[[\"percent_unemployed\", \"percent_nohs\", \"B23025_003E\"]].copy()"
      ],
      "execution_count": null,
      "outputs": []
    },
    {
      "cell_type": "code",
      "metadata": {
        "id": "sCVcfg0bHSC2",
        "outputId": "aae8ee2c-eab8-44da-d7ba-85f08b83794f",
        "colab": {
          "base_uri": "https://localhost:8080/",
          "height": 979
        }
      },
      "source": [
        "cookbg_sub.sort_values('percent_unemployed', ascending=False).head(30)"
      ],
      "execution_count": null,
      "outputs": [
        {
          "output_type": "execute_result",
          "data": {
            "text/html": [
              "<div>\n",
              "<style scoped>\n",
              "    .dataframe tbody tr th:only-of-type {\n",
              "        vertical-align: middle;\n",
              "    }\n",
              "\n",
              "    .dataframe tbody tr th {\n",
              "        vertical-align: top;\n",
              "    }\n",
              "\n",
              "    .dataframe thead th {\n",
              "        text-align: right;\n",
              "    }\n",
              "</style>\n",
              "<table border=\"1\" class=\"dataframe\">\n",
              "  <thead>\n",
              "    <tr style=\"text-align: right;\">\n",
              "      <th></th>\n",
              "      <th>percent_unemployed</th>\n",
              "      <th>percent_nohs</th>\n",
              "      <th>B23025_003E</th>\n",
              "    </tr>\n",
              "  </thead>\n",
              "  <tbody>\n",
              "    <tr>\n",
              "      <th>Block Group 1, Census Tract 8357, Cook County, Illinois: Summary level: 150, state:17&gt; county:031&gt; tract:835700&gt; block group:1</th>\n",
              "      <td>91.860465</td>\n",
              "      <td>0.000000</td>\n",
              "      <td>172</td>\n",
              "    </tr>\n",
              "    <tr>\n",
              "      <th>Block Group 2, Census Tract 6805, Cook County, Illinois: Summary level: 150, state:17&gt; county:031&gt; tract:680500&gt; block group:2</th>\n",
              "      <td>66.272189</td>\n",
              "      <td>19.537275</td>\n",
              "      <td>338</td>\n",
              "    </tr>\n",
              "    <tr>\n",
              "      <th>Block Group 3, Census Tract 5103, Cook County, Illinois: Summary level: 150, state:17&gt; county:031&gt; tract:510300&gt; block group:3</th>\n",
              "      <td>64.074074</td>\n",
              "      <td>16.972477</td>\n",
              "      <td>270</td>\n",
              "    </tr>\n",
              "    <tr>\n",
              "      <th>Block Group 2, Census Tract 6809, Cook County, Illinois: Summary level: 150, state:17&gt; county:031&gt; tract:680900&gt; block group:2</th>\n",
              "      <td>61.458333</td>\n",
              "      <td>42.326733</td>\n",
              "      <td>192</td>\n",
              "    </tr>\n",
              "    <tr>\n",
              "      <th>Block Group 1, Census Tract 4913, Cook County, Illinois: Summary level: 150, state:17&gt; county:031&gt; tract:491300&gt; block group:1</th>\n",
              "      <td>56.398104</td>\n",
              "      <td>14.642857</td>\n",
              "      <td>211</td>\n",
              "    </tr>\n",
              "    <tr>\n",
              "      <th>Block Group 5, Census Tract 2315, Cook County, Illinois: Summary level: 150, state:17&gt; county:031&gt; tract:231500&gt; block group:5</th>\n",
              "      <td>55.584416</td>\n",
              "      <td>44.721689</td>\n",
              "      <td>385</td>\n",
              "    </tr>\n",
              "    <tr>\n",
              "      <th>Block Group 3, Census Tract 8346, Cook County, Illinois: Summary level: 150, state:17&gt; county:031&gt; tract:834600&gt; block group:3</th>\n",
              "      <td>54.957507</td>\n",
              "      <td>17.846154</td>\n",
              "      <td>353</td>\n",
              "    </tr>\n",
              "    <tr>\n",
              "      <th>Block Group 2, Census Tract 6706, Cook County, Illinois: Summary level: 150, state:17&gt; county:031&gt; tract:670600&gt; block group:2</th>\n",
              "      <td>54.125413</td>\n",
              "      <td>9.570957</td>\n",
              "      <td>303</td>\n",
              "    </tr>\n",
              "    <tr>\n",
              "      <th>Block Group 2, Census Tract 8386, Cook County, Illinois: Summary level: 150, state:17&gt; county:031&gt; tract:838600&gt; block group:2</th>\n",
              "      <td>53.781513</td>\n",
              "      <td>48.407643</td>\n",
              "      <td>119</td>\n",
              "    </tr>\n",
              "    <tr>\n",
              "      <th>Block Group 5, Census Tract 4910, Cook County, Illinois: Summary level: 150, state:17&gt; county:031&gt; tract:491000&gt; block group:5</th>\n",
              "      <td>53.571429</td>\n",
              "      <td>38.231780</td>\n",
              "      <td>448</td>\n",
              "    </tr>\n",
              "    <tr>\n",
              "      <th>Block Group 1, Census Tract 5401.02, Cook County, Illinois: Summary level: 150, state:17&gt; county:031&gt; tract:540102&gt; block group:1</th>\n",
              "      <td>52.895753</td>\n",
              "      <td>6.666667</td>\n",
              "      <td>259</td>\n",
              "    </tr>\n",
              "    <tr>\n",
              "      <th>Block Group 2, Census Tract 6712, Cook County, Illinois: Summary level: 150, state:17&gt; county:031&gt; tract:671200&gt; block group:2</th>\n",
              "      <td>52.838428</td>\n",
              "      <td>26.984127</td>\n",
              "      <td>229</td>\n",
              "    </tr>\n",
              "    <tr>\n",
              "      <th>Block Group 1, Census Tract 7109, Cook County, Illinois: Summary level: 150, state:17&gt; county:031&gt; tract:710900&gt; block group:1</th>\n",
              "      <td>52.678571</td>\n",
              "      <td>19.078947</td>\n",
              "      <td>336</td>\n",
              "    </tr>\n",
              "    <tr>\n",
              "      <th>Block Group 1, Census Tract 3406, Cook County, Illinois: Summary level: 150, state:17&gt; county:031&gt; tract:340600&gt; block group:1</th>\n",
              "      <td>51.761518</td>\n",
              "      <td>42.592593</td>\n",
              "      <td>369</td>\n",
              "    </tr>\n",
              "    <tr>\n",
              "      <th>Block Group 1, Census Tract 6712, Cook County, Illinois: Summary level: 150, state:17&gt; county:031&gt; tract:671200&gt; block group:1</th>\n",
              "      <td>51.528384</td>\n",
              "      <td>37.704918</td>\n",
              "      <td>229</td>\n",
              "    </tr>\n",
              "    <tr>\n",
              "      <th>Block Group 2, Census Tract 4910, Cook County, Illinois: Summary level: 150, state:17&gt; county:031&gt; tract:491000&gt; block group:2</th>\n",
              "      <td>51.470588</td>\n",
              "      <td>26.504065</td>\n",
              "      <td>476</td>\n",
              "    </tr>\n",
              "    <tr>\n",
              "      <th>Block Group 3, Census Tract 4303, Cook County, Illinois: Summary level: 150, state:17&gt; county:031&gt; tract:430300&gt; block group:3</th>\n",
              "      <td>51.412429</td>\n",
              "      <td>14.847162</td>\n",
              "      <td>177</td>\n",
              "    </tr>\n",
              "    <tr>\n",
              "      <th>Block Group 1, Census Tract 6810, Cook County, Illinois: Summary level: 150, state:17&gt; county:031&gt; tract:681000&gt; block group:1</th>\n",
              "      <td>51.101322</td>\n",
              "      <td>24.378109</td>\n",
              "      <td>227</td>\n",
              "    </tr>\n",
              "    <tr>\n",
              "      <th>Block Group 5, Census Tract 6811, Cook County, Illinois: Summary level: 150, state:17&gt; county:031&gt; tract:681100&gt; block group:5</th>\n",
              "      <td>50.000000</td>\n",
              "      <td>31.952663</td>\n",
              "      <td>212</td>\n",
              "    </tr>\n",
              "    <tr>\n",
              "      <th>Block Group 6, Census Tract 7104, Cook County, Illinois: Summary level: 150, state:17&gt; county:031&gt; tract:710400&gt; block group:6</th>\n",
              "      <td>50.000000</td>\n",
              "      <td>9.344262</td>\n",
              "      <td>238</td>\n",
              "    </tr>\n",
              "    <tr>\n",
              "      <th>Block Group 2, Census Tract 6812, Cook County, Illinois: Summary level: 150, state:17&gt; county:031&gt; tract:681200&gt; block group:2</th>\n",
              "      <td>49.820789</td>\n",
              "      <td>20.293399</td>\n",
              "      <td>279</td>\n",
              "    </tr>\n",
              "    <tr>\n",
              "      <th>Block Group 1, Census Tract 8290, Cook County, Illinois: Summary level: 150, state:17&gt; county:031&gt; tract:829000&gt; block group:1</th>\n",
              "      <td>49.568966</td>\n",
              "      <td>28.969359</td>\n",
              "      <td>232</td>\n",
              "    </tr>\n",
              "    <tr>\n",
              "      <th>Block Group 3, Census Tract 6813, Cook County, Illinois: Summary level: 150, state:17&gt; county:031&gt; tract:681300&gt; block group:3</th>\n",
              "      <td>49.514563</td>\n",
              "      <td>22.921914</td>\n",
              "      <td>309</td>\n",
              "    </tr>\n",
              "    <tr>\n",
              "      <th>Block Group 1, Census Tract 6811, Cook County, Illinois: Summary level: 150, state:17&gt; county:031&gt; tract:681100&gt; block group:1</th>\n",
              "      <td>49.322493</td>\n",
              "      <td>33.727811</td>\n",
              "      <td>369</td>\n",
              "    </tr>\n",
              "    <tr>\n",
              "      <th>Block Group 2, Census Tract 7107, Cook County, Illinois: Summary level: 150, state:17&gt; county:031&gt; tract:710700&gt; block group:2</th>\n",
              "      <td>49.000000</td>\n",
              "      <td>17.184644</td>\n",
              "      <td>300</td>\n",
              "    </tr>\n",
              "    <tr>\n",
              "      <th>Block Group 6, Census Tract 4804, Cook County, Illinois: Summary level: 150, state:17&gt; county:031&gt; tract:480400&gt; block group:6</th>\n",
              "      <td>48.684211</td>\n",
              "      <td>8.320000</td>\n",
              "      <td>228</td>\n",
              "    </tr>\n",
              "    <tr>\n",
              "      <th>Block Group 1, Census Tract 4207, Cook County, Illinois: Summary level: 150, state:17&gt; county:031&gt; tract:420700&gt; block group:1</th>\n",
              "      <td>48.627451</td>\n",
              "      <td>14.075630</td>\n",
              "      <td>255</td>\n",
              "    </tr>\n",
              "    <tr>\n",
              "      <th>Block Group 1, Census Tract 6715, Cook County, Illinois: Summary level: 150, state:17&gt; county:031&gt; tract:671500&gt; block group:1</th>\n",
              "      <td>48.275862</td>\n",
              "      <td>30.238727</td>\n",
              "      <td>232</td>\n",
              "    </tr>\n",
              "    <tr>\n",
              "      <th>Block Group 4, Census Tract 4603.02, Cook County, Illinois: Summary level: 150, state:17&gt; county:031&gt; tract:460302&gt; block group:4</th>\n",
              "      <td>48.000000</td>\n",
              "      <td>48.268625</td>\n",
              "      <td>575</td>\n",
              "    </tr>\n",
              "    <tr>\n",
              "      <th>Block Group 3, Census Tract 8424, Cook County, Illinois: Summary level: 150, state:17&gt; county:031&gt; tract:842400&gt; block group:3</th>\n",
              "      <td>47.802198</td>\n",
              "      <td>0.000000</td>\n",
              "      <td>182</td>\n",
              "    </tr>\n",
              "  </tbody>\n",
              "</table>\n",
              "</div>"
            ],
            "text/plain": [
              "                                                    percent_unemployed  ...  B23025_003E\n",
              "Block Group 1, Census Tract 8357, Cook County, ...           91.860465  ...          172\n",
              "Block Group 2, Census Tract 6805, Cook County, ...           66.272189  ...          338\n",
              "Block Group 3, Census Tract 5103, Cook County, ...           64.074074  ...          270\n",
              "Block Group 2, Census Tract 6809, Cook County, ...           61.458333  ...          192\n",
              "Block Group 1, Census Tract 4913, Cook County, ...           56.398104  ...          211\n",
              "Block Group 5, Census Tract 2315, Cook County, ...           55.584416  ...          385\n",
              "Block Group 3, Census Tract 8346, Cook County, ...           54.957507  ...          353\n",
              "Block Group 2, Census Tract 6706, Cook County, ...           54.125413  ...          303\n",
              "Block Group 2, Census Tract 8386, Cook County, ...           53.781513  ...          119\n",
              "Block Group 5, Census Tract 4910, Cook County, ...           53.571429  ...          448\n",
              "Block Group 1, Census Tract 5401.02, Cook Count...           52.895753  ...          259\n",
              "Block Group 2, Census Tract 6712, Cook County, ...           52.838428  ...          229\n",
              "Block Group 1, Census Tract 7109, Cook County, ...           52.678571  ...          336\n",
              "Block Group 1, Census Tract 3406, Cook County, ...           51.761518  ...          369\n",
              "Block Group 1, Census Tract 6712, Cook County, ...           51.528384  ...          229\n",
              "Block Group 2, Census Tract 4910, Cook County, ...           51.470588  ...          476\n",
              "Block Group 3, Census Tract 4303, Cook County, ...           51.412429  ...          177\n",
              "Block Group 1, Census Tract 6810, Cook County, ...           51.101322  ...          227\n",
              "Block Group 5, Census Tract 6811, Cook County, ...           50.000000  ...          212\n",
              "Block Group 6, Census Tract 7104, Cook County, ...           50.000000  ...          238\n",
              "Block Group 2, Census Tract 6812, Cook County, ...           49.820789  ...          279\n",
              "Block Group 1, Census Tract 8290, Cook County, ...           49.568966  ...          232\n",
              "Block Group 3, Census Tract 6813, Cook County, ...           49.514563  ...          309\n",
              "Block Group 1, Census Tract 6811, Cook County, ...           49.322493  ...          369\n",
              "Block Group 2, Census Tract 7107, Cook County, ...           49.000000  ...          300\n",
              "Block Group 6, Census Tract 4804, Cook County, ...           48.684211  ...          228\n",
              "Block Group 1, Census Tract 4207, Cook County, ...           48.627451  ...          255\n",
              "Block Group 1, Census Tract 6715, Cook County, ...           48.275862  ...          232\n",
              "Block Group 4, Census Tract 4603.02, Cook Count...           48.000000  ...          575\n",
              "Block Group 3, Census Tract 8424, Cook County, ...           47.802198  ...          182\n",
              "\n",
              "[30 rows x 3 columns]"
            ]
          },
          "metadata": {
            "tags": []
          },
          "execution_count": 37
        }
      ]
    },
    {
      "cell_type": "code",
      "metadata": {
        "id": "LBi5QtzWHVaU",
        "outputId": "b770b869-b005-42df-fd8e-a3fa7f6f1f55",
        "colab": {
          "base_uri": "https://localhost:8080/",
          "height": 34
        }
      },
      "source": [
        "np.sqrt(172)"
      ],
      "execution_count": null,
      "outputs": [
        {
          "output_type": "execute_result",
          "data": {
            "text/plain": [
              "13.114877048604"
            ]
          },
          "metadata": {
            "tags": []
          },
          "execution_count": 38
        }
      ]
    },
    {
      "cell_type": "code",
      "metadata": {
        "id": "Dm790JpPIGRN"
      },
      "source": [
        ""
      ],
      "execution_count": null,
      "outputs": []
    }
  ]
}