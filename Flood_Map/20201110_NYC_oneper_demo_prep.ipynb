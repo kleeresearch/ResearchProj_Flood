{
  "nbformat": 4,
  "nbformat_minor": 0,
  "metadata": {
    "colab": {
      "name": "20201110_NYC_oneper_demo_prep.ipynb",
      "provenance": [],
      "collapsed_sections": [],
      "authorship_tag": "ABX9TyOxI0LAZAyDgWpsfnWKkaVF",
      "include_colab_link": true
    },
    "kernelspec": {
      "display_name": "Python 3",
      "name": "python3"
    }
  },
  "cells": [
    {
      "cell_type": "markdown",
      "metadata": {
        "id": "view-in-github",
        "colab_type": "text"
      },
      "source": [
        "<a href=\"https://colab.research.google.com/github/KLeeDE/ResearchProj_Flood/blob/master/Flood_Map/20201110_NYC_oneper_demo_prep.ipynb\" target=\"_parent\"><img src=\"https://colab.research.google.com/assets/colab-badge.svg\" alt=\"Open In Colab\"/></a>"
      ]
    },
    {
      "cell_type": "markdown",
      "metadata": {
        "id": "kloAcC_WAcTt"
      },
      "source": [
        "# Background\n"
      ]
    },
    {
      "cell_type": "markdown",
      "metadata": {
        "id": "6ixrMCtm-x8L"
      },
      "source": [
        "\n",
        "# New York City flood risk data\n",
        "\n",
        "**Data Description**\n",
        "This is the 100-Year Floodplain for the 2020s based on FEMA's Preliminary Work Map data and the New York Panel on Climate Change's 90th Percentile Projects for Sea-Level Rise (11 inches). Please see the Disclaimer PDF for more information. Data Provided by the Mayor's Office of Long-Term Planning and Sustainability (OLTPS) on behalf of CUNY Institute for Sustainable Cities (CISC) and the New York Panel on Climate Change (NPCC).\n",
        "\n",
        "Reference:\n",
        "\n",
        "[NYC Open Data (2020)](https://data.cityofnewyork.us/Environment/Sea-Level-Rise-Maps-2020s-100-year-Floodplain-/ezfn-5dsb) Seal Level Rise Maps (2020s 100-year Floodplain)\n",
        "\n",
        "[NPCC(2013)](\"https://data.cityofnewyork.us/api/assets/1F7A128D-4F0D-430C-A98E-53E44CFFCAD7?download=true\") Climate Risk Information 2013 Observations, Climate Change, Projections, and Maps\n",
        "\n",
        "**NYC flood related policy and background**\n",
        "\n",
        "* Records show that maximum daily summer temperatures have been rising at rates of 0.5°F per decade at JFK Airport and 0.7°F per decade at LaGuardia Airport since 1970. Sea level recorded at The Battery in lower Manhattan continues to rise at a rate of 0.11 inches per year since 1850.\n",
        "* Economic losses from hurricanes and floods have significantly increased in past decades and are likely to increase further in the future from more intense hurricanes and higher sea level rise.\n",
        "* *The report finds that areas with lower incomes and the highest percentages of African American and Hispanic residents are consistently more likely to suffer the impacts of climate change. The panel advises that community engagement is critical for more effective and flexible adaptation efforts in the most at-risk communities.*\n",
        "* To help manage the dynamic climate and public policy contexts, the NPCC 2019 report recommends that the city put in place a coordinated indicator and monitoring system to enable the city and its communities to better monitor climate change trends, impacts, vulnerability, and adaptation measures. The report also notes that property insurance can be a catalyst for infrastructure resilience by encouraging investment in adaptation measures prior to a disaster through a reduction in premiums.\n",
        "\n",
        "References:\n",
        "\n",
        "[NPCC(2019)](https://www.nyas.org/annals/special-issue-advancing-tools-and-methods-for-flexible-adaptation-pathways-and-science-policy-integration-new-york-city-panel-on-climate-change-2019-report-vol-1439/) Special Issue: Advancing Tools and Methods for Flexible Adaptation Pathways and Science Policy Integration \n",
        "\n",
        "[Columbia University Earth Institute website (2019)](\"https://blogs.ei.columbia.edu/2019/03/15/npcc-report-2019-climate-change-nyc/\") New York City Panel on Climate Change Releases 2019 Report\n",
        "\n",
        "\n",
        "More References:\n",
        "\n",
        "[NPCC website(2020)](https://www1.nyc.gov/site/orr/challenges/nyc-panel-on-climate-change.page) New York City Panel on Climate Change Flood Zones \n",
        "\n"
      ]
    },
    {
      "cell_type": "markdown",
      "metadata": {
        "id": "Wa6gh9xEjDaG"
      },
      "source": [
        "# Basic Data Description "
      ]
    },
    {
      "cell_type": "code",
      "metadata": {
        "id": "phuFLxAljFvJ",
        "colab": {
          "base_uri": "https://localhost:8080/"
        },
        "outputId": "f0bdabb7-ac20-42cf-bdb4-fb647660e5c1"
      },
      "source": [
        "#@ install geospatial packages\n",
        "!sudo apt install libspatialindex-dev\n",
        "!pip install geopandas\n",
        "!pip install census\n",
        "!pip install CensusData\n",
        "!pip install us\n",
        "#!pip install rtree"
      ],
      "execution_count": null,
      "outputs": [
        {
          "output_type": "stream",
          "text": [
            "Reading package lists... Done\n",
            "Building dependency tree       \n",
            "Reading state information... Done\n",
            "The following additional packages will be installed:\n",
            "  libspatialindex-c4v5 libspatialindex4v5\n",
            "The following NEW packages will be installed:\n",
            "  libspatialindex-c4v5 libspatialindex-dev libspatialindex4v5\n",
            "0 upgraded, 3 newly installed, 0 to remove and 14 not upgraded.\n",
            "Need to get 555 kB of archives.\n",
            "After this operation, 3,308 kB of additional disk space will be used.\n",
            "Get:1 http://archive.ubuntu.com/ubuntu bionic/universe amd64 libspatialindex4v5 amd64 1.8.5-5 [219 kB]\n",
            "Get:2 http://archive.ubuntu.com/ubuntu bionic/universe amd64 libspatialindex-c4v5 amd64 1.8.5-5 [51.7 kB]\n",
            "Get:3 http://archive.ubuntu.com/ubuntu bionic/universe amd64 libspatialindex-dev amd64 1.8.5-5 [285 kB]\n",
            "Fetched 555 kB in 1s (723 kB/s)\n",
            "debconf: unable to initialize frontend: Dialog\n",
            "debconf: (No usable dialog-like program is installed, so the dialog based frontend cannot be used. at /usr/share/perl5/Debconf/FrontEnd/Dialog.pm line 76, <> line 3.)\n",
            "debconf: falling back to frontend: Readline\n",
            "debconf: unable to initialize frontend: Readline\n",
            "debconf: (This frontend requires a controlling tty.)\n",
            "debconf: falling back to frontend: Teletype\n",
            "dpkg-preconfigure: unable to re-open stdin: \n",
            "Selecting previously unselected package libspatialindex4v5:amd64.\n",
            "(Reading database ... 144793 files and directories currently installed.)\n",
            "Preparing to unpack .../libspatialindex4v5_1.8.5-5_amd64.deb ...\n",
            "Unpacking libspatialindex4v5:amd64 (1.8.5-5) ...\n",
            "Selecting previously unselected package libspatialindex-c4v5:amd64.\n",
            "Preparing to unpack .../libspatialindex-c4v5_1.8.5-5_amd64.deb ...\n",
            "Unpacking libspatialindex-c4v5:amd64 (1.8.5-5) ...\n",
            "Selecting previously unselected package libspatialindex-dev:amd64.\n",
            "Preparing to unpack .../libspatialindex-dev_1.8.5-5_amd64.deb ...\n",
            "Unpacking libspatialindex-dev:amd64 (1.8.5-5) ...\n",
            "Setting up libspatialindex4v5:amd64 (1.8.5-5) ...\n",
            "Setting up libspatialindex-c4v5:amd64 (1.8.5-5) ...\n",
            "Setting up libspatialindex-dev:amd64 (1.8.5-5) ...\n",
            "Processing triggers for libc-bin (2.27-3ubuntu1.2) ...\n",
            "/sbin/ldconfig.real: /usr/local/lib/python3.6/dist-packages/ideep4py/lib/libmkldnn.so.0 is not a symbolic link\n",
            "\n",
            "Collecting geopandas\n",
            "\u001b[?25l  Downloading https://files.pythonhosted.org/packages/f7/a4/e66aafbefcbb717813bf3a355c8c4fc3ed04ea1dd7feb2920f2f4f868921/geopandas-0.8.1-py2.py3-none-any.whl (962kB)\n",
            "\u001b[K     |████████████████████████████████| 972kB 4.1MB/s \n",
            "\u001b[?25hCollecting pyproj>=2.2.0\n",
            "\u001b[?25l  Downloading https://files.pythonhosted.org/packages/e4/ab/280e80a67cfc109d15428c0ec56391fc03a65857b7727cf4e6e6f99a4204/pyproj-3.0.0.post1-cp36-cp36m-manylinux2010_x86_64.whl (6.4MB)\n",
            "\u001b[K     |████████████████████████████████| 6.5MB 11.5MB/s \n",
            "\u001b[?25hRequirement already satisfied: pandas>=0.23.0 in /usr/local/lib/python3.6/dist-packages (from geopandas) (1.1.4)\n",
            "Collecting fiona\n",
            "\u001b[?25l  Downloading https://files.pythonhosted.org/packages/36/8b/e8b2c11bed5373c8e98edb85ce891b09aa1f4210fd451d0fb3696b7695a2/Fiona-1.8.17-cp36-cp36m-manylinux1_x86_64.whl (14.8MB)\n",
            "\u001b[K     |████████████████████████████████| 14.8MB 305kB/s \n",
            "\u001b[?25hRequirement already satisfied: shapely in /usr/local/lib/python3.6/dist-packages (from geopandas) (1.7.1)\n",
            "Requirement already satisfied: certifi in /usr/local/lib/python3.6/dist-packages (from pyproj>=2.2.0->geopandas) (2020.6.20)\n",
            "Requirement already satisfied: pytz>=2017.2 in /usr/local/lib/python3.6/dist-packages (from pandas>=0.23.0->geopandas) (2018.9)\n",
            "Requirement already satisfied: python-dateutil>=2.7.3 in /usr/local/lib/python3.6/dist-packages (from pandas>=0.23.0->geopandas) (2.8.1)\n",
            "Requirement already satisfied: numpy>=1.15.4 in /usr/local/lib/python3.6/dist-packages (from pandas>=0.23.0->geopandas) (1.18.5)\n",
            "Collecting munch\n",
            "  Downloading https://files.pythonhosted.org/packages/cc/ab/85d8da5c9a45e072301beb37ad7f833cd344e04c817d97e0cc75681d248f/munch-2.5.0-py2.py3-none-any.whl\n",
            "Requirement already satisfied: six>=1.7 in /usr/local/lib/python3.6/dist-packages (from fiona->geopandas) (1.15.0)\n",
            "Requirement already satisfied: attrs>=17 in /usr/local/lib/python3.6/dist-packages (from fiona->geopandas) (20.2.0)\n",
            "Collecting click-plugins>=1.0\n",
            "  Downloading https://files.pythonhosted.org/packages/e9/da/824b92d9942f4e472702488857914bdd50f73021efea15b4cad9aca8ecef/click_plugins-1.1.1-py2.py3-none-any.whl\n",
            "Collecting cligj>=0.5\n",
            "  Downloading https://files.pythonhosted.org/packages/ba/06/e3440b1f2dc802d35f329f299ba96153e9fcbfdef75e17f4b61f79430c6a/cligj-0.7.0-py3-none-any.whl\n",
            "Requirement already satisfied: click<8,>=4.0 in /usr/local/lib/python3.6/dist-packages (from fiona->geopandas) (7.1.2)\n",
            "Installing collected packages: pyproj, munch, click-plugins, cligj, fiona, geopandas\n",
            "Successfully installed click-plugins-1.1.1 cligj-0.7.0 fiona-1.8.17 geopandas-0.8.1 munch-2.5.0 pyproj-3.0.0.post1\n",
            "Collecting census\n",
            "  Downloading https://files.pythonhosted.org/packages/63/a4/3f445a8a8ba9003f01dab31afb2baff522a786eb860c792baac819fdccc6/census-0.8.15-py2.py3-none-any.whl\n",
            "Requirement already satisfied: requests>=1.1.0 in /usr/local/lib/python3.6/dist-packages (from census) (2.23.0)\n",
            "Requirement already satisfied: future in /usr/local/lib/python3.6/dist-packages (from census) (0.16.0)\n",
            "Requirement already satisfied: certifi>=2017.4.17 in /usr/local/lib/python3.6/dist-packages (from requests>=1.1.0->census) (2020.6.20)\n",
            "Requirement already satisfied: chardet<4,>=3.0.2 in /usr/local/lib/python3.6/dist-packages (from requests>=1.1.0->census) (3.0.4)\n",
            "Requirement already satisfied: idna<3,>=2.5 in /usr/local/lib/python3.6/dist-packages (from requests>=1.1.0->census) (2.10)\n",
            "Requirement already satisfied: urllib3!=1.25.0,!=1.25.1,<1.26,>=1.21.1 in /usr/local/lib/python3.6/dist-packages (from requests>=1.1.0->census) (1.24.3)\n",
            "Installing collected packages: census\n",
            "Successfully installed census-0.8.15\n",
            "Collecting CensusData\n",
            "\u001b[?25l  Downloading https://files.pythonhosted.org/packages/f9/c2/2324be3e4184980008e76e5fd60fb8e3e28803516423c27c298eb6f63343/CensusData-1.10.tar.gz (24.9MB)\n",
            "\u001b[K     |████████████████████████████████| 24.9MB 1.8MB/s \n",
            "\u001b[?25hRequirement already satisfied: pandas in /usr/local/lib/python3.6/dist-packages (from CensusData) (1.1.4)\n",
            "Requirement already satisfied: requests in /usr/local/lib/python3.6/dist-packages (from CensusData) (2.23.0)\n",
            "Requirement already satisfied: python-dateutil>=2.7.3 in /usr/local/lib/python3.6/dist-packages (from pandas->CensusData) (2.8.1)\n",
            "Requirement already satisfied: numpy>=1.15.4 in /usr/local/lib/python3.6/dist-packages (from pandas->CensusData) (1.18.5)\n",
            "Requirement already satisfied: pytz>=2017.2 in /usr/local/lib/python3.6/dist-packages (from pandas->CensusData) (2018.9)\n",
            "Requirement already satisfied: urllib3!=1.25.0,!=1.25.1,<1.26,>=1.21.1 in /usr/local/lib/python3.6/dist-packages (from requests->CensusData) (1.24.3)\n",
            "Requirement already satisfied: certifi>=2017.4.17 in /usr/local/lib/python3.6/dist-packages (from requests->CensusData) (2020.6.20)\n",
            "Requirement already satisfied: idna<3,>=2.5 in /usr/local/lib/python3.6/dist-packages (from requests->CensusData) (2.10)\n",
            "Requirement already satisfied: chardet<4,>=3.0.2 in /usr/local/lib/python3.6/dist-packages (from requests->CensusData) (3.0.4)\n",
            "Requirement already satisfied: six>=1.5 in /usr/local/lib/python3.6/dist-packages (from python-dateutil>=2.7.3->pandas->CensusData) (1.15.0)\n",
            "Building wheels for collected packages: CensusData\n",
            "  Building wheel for CensusData (setup.py) ... \u001b[?25l\u001b[?25hdone\n",
            "  Created wheel for CensusData: filename=CensusData-1.10-cp36-none-any.whl size=26468242 sha256=1550c9bb9c6f9146e86a189d92336ee9d10587455ba5fecd9e8d84de2925fe4f\n",
            "  Stored in directory: /root/.cache/pip/wheels/f3/50/8a/4a919497c7c3ff4c6a8884d665e930278af38ceff600225de7\n",
            "Successfully built CensusData\n",
            "Installing collected packages: CensusData\n",
            "Successfully installed CensusData-1.10\n",
            "Collecting us\n",
            "  Downloading https://files.pythonhosted.org/packages/88/04/04323aefa1871de30286d3decae7706481c73bd428cf0c08e158bfa259a6/us-2.0.2.tar.gz\n",
            "Collecting jellyfish==0.6.1\n",
            "\u001b[?25l  Downloading https://files.pythonhosted.org/packages/61/3f/60ac86fb43dfbf976768e80674b5538e535f6eca5aa7806cf2fdfd63550f/jellyfish-0.6.1.tar.gz (132kB)\n",
            "\u001b[K     |████████████████████████████████| 133kB 5.9MB/s \n",
            "\u001b[?25hBuilding wheels for collected packages: us, jellyfish\n",
            "  Building wheel for us (setup.py) ... \u001b[?25l\u001b[?25hdone\n",
            "  Created wheel for us: filename=us-2.0.2-cp36-none-any.whl size=11928 sha256=aae63566eb2f0d0cde57f0df2efcdef61e506a40f847d71f81b5e11aa92bc760\n",
            "  Stored in directory: /root/.cache/pip/wheels/e2/16/45/6453383ffa495670f0f6b80a3e697a9771d98cfbaf8b451e73\n",
            "  Building wheel for jellyfish (setup.py) ... \u001b[?25l\u001b[?25hdone\n",
            "  Created wheel for jellyfish: filename=jellyfish-0.6.1-cp36-cp36m-linux_x86_64.whl size=74744 sha256=ed1eea6150682dde845cfd5bf9db6859a91615b3783dbd465e64c37c6098a19e\n",
            "  Stored in directory: /root/.cache/pip/wheels/9c/6f/33/92bb9a4b4562a60ba6a80cedbab8907e48bc7a8b1f369ea0ae\n",
            "Successfully built us jellyfish\n",
            "Installing collected packages: jellyfish, us\n",
            "Successfully installed jellyfish-0.6.1 us-2.0.2\n"
          ],
          "name": "stdout"
        }
      ]
    },
    {
      "cell_type": "code",
      "metadata": {
        "id": "j4wrYffcjhsY",
        "colab": {
          "base_uri": "https://localhost:8080/"
        },
        "outputId": "3b4837ac-3e7f-4a15-cb08-b722cdf38937"
      },
      "source": [
        "# Basic package\n",
        "import geopandas as gp\n",
        "import numpy as np \n",
        "import pandas as pd\n",
        "import matplotlib.pyplot as plt\n",
        "import statsmodels.formula.api as sm\n",
        "from shapely.geometry import shape\n",
        "\n",
        "# census \n",
        "import censusdata\n",
        "from census import Census\n",
        "from us import states\n",
        "\n",
        "# Advanced package\n",
        "import gdal \n",
        "from gdalconst import *\n",
        "from collections import Counter\n",
        "import time"
      ],
      "execution_count": null,
      "outputs": [
        {
          "output_type": "stream",
          "text": [
            "/usr/local/lib/python3.6/dist-packages/statsmodels/tools/_testing.py:19: FutureWarning: pandas.util.testing is deprecated. Use the functions in the public API at pandas.testing instead.\n",
            "  import pandas.util.testing as tm\n"
          ],
          "name": "stderr"
        }
      ]
    },
    {
      "cell_type": "code",
      "metadata": {
        "id": "4r0c7AwijxaW",
        "colab": {
          "base_uri": "https://localhost:8080/"
        },
        "outputId": "c7877a3b-11e3-49ff-f945-ca070926f56d"
      },
      "source": [
        "#  mount drive\n",
        "from google.colab import drive\n",
        "drive.mount('/content/drive')"
      ],
      "execution_count": null,
      "outputs": [
        {
          "output_type": "stream",
          "text": [
            "Mounted at /content/drive\n"
          ],
          "name": "stdout"
        }
      ]
    },
    {
      "cell_type": "markdown",
      "metadata": {
        "id": "fVLKORIHtCz2"
      },
      "source": [
        "\n",
        "# Geospatial data"
      ]
    },
    {
      "cell_type": "code",
      "metadata": {
        "id": "sQWSiVUBoRF4",
        "colab": {
          "base_uri": "https://localhost:8080/",
          "height": 282
        },
        "outputId": "4e8ce667-862b-48e9-dbb7-5bba421625c5"
      },
      "source": [
        "# Download geospatial data\n",
        "fnyc = gp.read_file(\"https://data.cityofnewyork.us/api/geospatial/ezfn-5dsb?method=export&format=GeoJSON\", low_memory=False)\n",
        "fnyc.plot()"
      ],
      "execution_count": null,
      "outputs": [
        {
          "output_type": "execute_result",
          "data": {
            "text/plain": [
              "<matplotlib.axes._subplots.AxesSubplot at 0x7f2d1e221208>"
            ]
          },
          "metadata": {
            "tags": []
          },
          "execution_count": 4
        },
        {
          "output_type": "display_data",
          "data": {
            "image/png": "[encoded data removed]",
            "text/plain": [
              "<Figure size 432x288 with 1 Axes>"
            ]
          },
          "metadata": {
            "tags": [],
            "needs_background": "light"
          }
        }
      ]
    },
    {
      "cell_type": "code",
      "metadata": {
        "id": "Mm7tsjvDqlwB",
        "colab": {
          "base_uri": "https://localhost:8080/"
        },
        "outputId": "4cab83da-5548-4018-a867-b3f4a8b44a15"
      },
      "source": [
        "fnyc.dtypes"
      ],
      "execution_count": null,
      "outputs": [
        {
          "output_type": "execute_result",
          "data": {
            "text/plain": [
              "fld_zone        object\n",
              "shape_area      object\n",
              "join_count      object\n",
              "gridcode        object\n",
              "shape_leng      object\n",
              "static_bfe      object\n",
              "id              object\n",
              "orig_fid        object\n",
              "abfe_0_2pc      object\n",
              "target_fid      object\n",
              "geometry      geometry\n",
              "dtype: object"
            ]
          },
          "metadata": {
            "tags": []
          },
          "execution_count": 5
        }
      ]
    },
    {
      "cell_type": "code",
      "metadata": {
        "id": "8qMp5zkutq4s",
        "colab": {
          "base_uri": "https://localhost:8080/",
          "height": 195
        },
        "outputId": "a9457b2b-bbea-43ed-d4eb-36407ef6ee69"
      },
      "source": [
        "fnyc.head()"
      ],
      "execution_count": null,
      "outputs": [
        {
          "output_type": "execute_result",
          "data": {
            "text/html": [
              "<div>\n",
              "<style scoped>\n",
              "    .dataframe tbody tr th:only-of-type {\n",
              "        vertical-align: middle;\n",
              "    }\n",
              "\n",
              "    .dataframe tbody tr th {\n",
              "        vertical-align: top;\n",
              "    }\n",
              "\n",
              "    .dataframe thead th {\n",
              "        text-align: right;\n",
              "    }\n",
              "</style>\n",
              "<table border=\"1\" class=\"dataframe\">\n",
              "  <thead>\n",
              "    <tr style=\"text-align: right;\">\n",
              "      <th></th>\n",
              "      <th>fld_zone</th>\n",
              "      <th>shape_area</th>\n",
              "      <th>join_count</th>\n",
              "      <th>gridcode</th>\n",
              "      <th>shape_leng</th>\n",
              "      <th>static_bfe</th>\n",
              "      <th>id</th>\n",
              "      <th>orig_fid</th>\n",
              "      <th>abfe_0_2pc</th>\n",
              "      <th>target_fid</th>\n",
              "      <th>geometry</th>\n",
              "    </tr>\n",
              "  </thead>\n",
              "  <tbody>\n",
              "    <tr>\n",
              "      <th>0</th>\n",
              "      <td></td>\n",
              "      <td>0.0</td>\n",
              "      <td>0</td>\n",
              "      <td>900</td>\n",
              "      <td>0.0</td>\n",
              "      <td>0.0</td>\n",
              "      <td>2</td>\n",
              "      <td>0</td>\n",
              "      <td>0</td>\n",
              "      <td>0</td>\n",
              "      <td>MULTIPOLYGON (((-73.91020 40.91784, -73.91020 ...</td>\n",
              "    </tr>\n",
              "    <tr>\n",
              "      <th>1</th>\n",
              "      <td></td>\n",
              "      <td>0.0</td>\n",
              "      <td>0</td>\n",
              "      <td>900</td>\n",
              "      <td>0.0</td>\n",
              "      <td>0.0</td>\n",
              "      <td>4</td>\n",
              "      <td>1</td>\n",
              "      <td>0</td>\n",
              "      <td>0</td>\n",
              "      <td>MULTIPOLYGON (((-73.90993 40.91544, -73.91016 ...</td>\n",
              "    </tr>\n",
              "    <tr>\n",
              "      <th>2</th>\n",
              "      <td></td>\n",
              "      <td>0.0</td>\n",
              "      <td>0</td>\n",
              "      <td>900</td>\n",
              "      <td>0.0</td>\n",
              "      <td>0.0</td>\n",
              "      <td>5</td>\n",
              "      <td>2</td>\n",
              "      <td>0</td>\n",
              "      <td>0</td>\n",
              "      <td>MULTIPOLYGON (((-73.91147 40.91345, -73.91147 ...</td>\n",
              "    </tr>\n",
              "    <tr>\n",
              "      <th>3</th>\n",
              "      <td></td>\n",
              "      <td>0.0</td>\n",
              "      <td>0</td>\n",
              "      <td>1200</td>\n",
              "      <td>0.0</td>\n",
              "      <td>0.0</td>\n",
              "      <td>6</td>\n",
              "      <td>3</td>\n",
              "      <td>0</td>\n",
              "      <td>0</td>\n",
              "      <td>MULTIPOLYGON (((-73.91165 40.91283, -73.91875 ...</td>\n",
              "    </tr>\n",
              "    <tr>\n",
              "      <th>4</th>\n",
              "      <td></td>\n",
              "      <td>0.0</td>\n",
              "      <td>0</td>\n",
              "      <td>1200</td>\n",
              "      <td>0.0</td>\n",
              "      <td>0.0</td>\n",
              "      <td>7</td>\n",
              "      <td>4</td>\n",
              "      <td>0</td>\n",
              "      <td>0</td>\n",
              "      <td>MULTIPOLYGON (((-73.91129 40.91256, -73.91165 ...</td>\n",
              "    </tr>\n",
              "  </tbody>\n",
              "</table>\n",
              "</div>"
            ],
            "text/plain": [
              "  fld_zone  ...                                           geometry\n",
              "0           ...  MULTIPOLYGON (((-73.91020 40.91784, -73.91020 ...\n",
              "1           ...  MULTIPOLYGON (((-73.90993 40.91544, -73.91016 ...\n",
              "2           ...  MULTIPOLYGON (((-73.91147 40.91345, -73.91147 ...\n",
              "3           ...  MULTIPOLYGON (((-73.91165 40.91283, -73.91875 ...\n",
              "4           ...  MULTIPOLYGON (((-73.91129 40.91256, -73.91165 ...\n",
              "\n",
              "[5 rows x 11 columns]"
            ]
          },
          "metadata": {
            "tags": []
          },
          "execution_count": 6
        }
      ]
    },
    {
      "cell_type": "markdown",
      "metadata": {
        "id": "zgaBiGwKGtS3"
      },
      "source": [
        "# Census tract data"
      ]
    },
    {
      "cell_type": "markdown",
      "metadata": {
        "id": "V_IRv3tK_txu"
      },
      "source": [
        "# Socioeconomic demographic data\n",
        "\n",
        "2019 American Community Survey 1-Year Data\n",
        "\n",
        "the first release of documentation in support of the 2019 American Community Survey 1-year estimates scheduled for release on Thursday, September 17, 2020. \n",
        "\n",
        "[Code Lists, Definitions, and Accuracy](\"https://www.census.gov/programs-surveys/acs/technical-documentation/code-lists.html\")\n",
        "\n",
        "Uniuted States Census Bureau: https://data.census.gov/cedsci/\n",
        "\n",
        "* First: get a census API key - you have to request it by email: \n",
        "https://api.census.gov/data/key_signup.html\n",
        "* HW4: create a csv file called myapis.csv and upload it on your google drive in the main folder (My Drive). The code I shared as a skeleton notebook will read it in and your API key will be known in the notebook solong as you call it myapis.csv.\n",
        "\n",
        "\n"
      ]
    },
    {
      "cell_type": "code",
      "metadata": {
        "id": "3XhvVkfuOMaM",
        "colab": {
          "base_uri": "https://localhost:8080/"
        },
        "outputId": "b87ccb32-be6b-4499-8d1c-c714f825c110"
      },
      "source": [
        "cd /content/drive/My Drive"
      ],
      "execution_count": null,
      "outputs": [
        {
          "output_type": "stream",
          "text": [
            "/content/drive/My Drive\n"
          ],
          "name": "stdout"
        }
      ]
    },
    {
      "cell_type": "code",
      "metadata": {
        "id": "M1wPXOD1RMK3",
        "colab": {
          "base_uri": "https://localhost:8080/",
          "height": 35
        },
        "outputId": "e341d89e-f5bb-4050-ef6e-254d1dd8873f"
      },
      "source": [
        "pwd"
      ],
      "execution_count": null,
      "outputs": [
        {
          "output_type": "execute_result",
          "data": {
            "application/vnd.google.colaboratory.intrinsic+json": {
              "type": "string"
            },
            "text/plain": [
              "'/content/drive/My Drive'"
            ]
          },
          "metadata": {
            "tags": []
          },
          "execution_count": 8
        }
      ]
    },
    {
      "cell_type": "code",
      "metadata": {
        "id": "s-W8qu3aRPMu",
        "colab": {
          "base_uri": "https://localhost:8080/"
        },
        "outputId": "9a4fdf9b-2fb6-4d1f-ac61-be45558f3b3f"
      },
      "source": [
        "ls"
      ],
      "execution_count": null,
      "outputs": [
        {
          "output_type": "stream",
          "text": [
            " \u001b[0m\u001b[01;34m기타\u001b[0m/\n",
            " \u001b[01;34m운동\u001b[0m/\n",
            " \u001b[01;34m자산관리\u001b[0m/\n",
            "\u001b[01;34m'1. Research Experience'\u001b[0m/\n",
            "'2019.01.04-05 New York.zip'\n",
            "'미국 정착 2019 Bill .gsheet'\n",
            " 2020.01.08..ipynb\n",
            " 2020.10.26._Flooding_midterm.gslides\n",
            "'2020 List of Online Collections.gsheet'\n",
            "'2020 List of Online Collections.xlsx'\n",
            " \u001b[01;34m20DSPP_kay\u001b[0m/\n",
            " \u001b[01;34m20GEOG_AdvGIS_Assignments\u001b[0m/\n",
            " \u001b[01;34m20MLPP_kay\u001b[0m/\n",
            "\u001b[01;34m'2. Work Experience'\u001b[0m/\n",
            "\u001b[01;34m'3. Community Service'\u001b[0m/\n",
            "\u001b[01;34m'4. Language'\u001b[0m/\n",
            "\u001b[01;34m'5. 추억 사진'\u001b[0m/\n",
            "'American Government.pdf'\n",
            " Background.zip\n",
            "'body line.gsheet'\n",
            "'[BWRN 2020-2] 10월 발표 사전 설문조사.gform'\n",
            " \u001b[01;34mBWRN-ADP\u001b[0m/\n",
            "'Climate Change and Society.pdf'\n",
            "\u001b[01;34m'Colab Notebooks'\u001b[0m/\n",
            " congress_tweets_2019.tsv\n",
            " Elantra_Price_2020.08.21..gsheet\n",
            "'ENEP250 - Survey on the choices for assignments .gform'\n",
            " \u001b[01;34mflooding\u001b[0m/\n",
            " gst_dem_fig_5_11.png\n",
            "'Handbook of STS.pdf'\n",
            "'ITA_Climate Change Politics(2019.08.12.) ver.3.gslides'\n",
            " \u001b[01;34mKAT_Group_Final\u001b[0m/\n",
            "'Local Adaptation Plan of Action (LAPA), Pildonibolo village (Jamoat Pildon, Jirgatol District), Tajikistan.docx'\n",
            " log_emissions.png\n",
            " \u001b[01;34mmlpp20\u001b[0m/\n",
            " \u001b[01;34mmlpp20_group\u001b[0m/\n",
            " myapi_20201116.csv\n",
            " myapi.csv\n",
            " myapis_20201108.csv\n",
            "'New York City Travel (01 04-05 2020).gsheet'\n",
            " \u001b[01;34mpus2020\u001b[0m/\n",
            " \u001b[01;34mPUS2020\u001b[0m/\n",
            "'PUS2020 project proposal - midterm_KLee.docx'\n",
            "\u001b[01;34m'Takikistan Paper 2'\u001b[0m/\n",
            " tl_2018_10_tract.cpg\n",
            " tl_2018_10_tract.dbf\n",
            " tl_2018_10_tract.prj\n",
            " tl_2018_10_tract.shp\n",
            " tl_2018_10_tract.shp.ea.iso.xml\n",
            " tl_2018_10_tract.shp.iso.xml\n",
            " tl_2018_10_tract.shx\n",
            " tl_2018_10_tract.zip\n",
            " tl_2018_10_tract.zip.1\n",
            " tl_2018_10_tract.zip.2\n",
            " tl_2018_10_tract.zip.3\n",
            " tl_2018_10_tract.zip.4\n",
            " tl_2018_10_tract.zip.5\n",
            " tl_2018_10_tract.zip.6\n",
            " tree_distrib_5_10.png\n",
            "'Untitled presentation.gslides'\n",
            " \u001b[01;36murban_heat\u001b[0m@\n",
            " wordfish_1.3.r\n",
            "'스위스 핸드폰도난서류.zip'\n",
            " \u001b[01;34mZIP_CODE_040114\u001b[0m/\n",
            " ZIP_CODE_040114.zip\n"
          ],
          "name": "stdout"
        }
      ]
    },
    {
      "cell_type": "code",
      "metadata": {
        "id": "xLIq0Ml8RS-x"
      },
      "source": [
        "myAPIkey =  pd.read_csv(\"myapis_20201108.csv\")[\"census\"]\n",
        "c = Census(myAPIkey)"
      ],
      "execution_count": null,
      "outputs": []
    },
    {
      "cell_type": "code",
      "metadata": {
        "id": "TqphP6dzNmBu"
      },
      "source": [
        "#censusdata.search('acs5', 2018, 'concept', 'median income')"
      ],
      "execution_count": null,
      "outputs": []
    },
    {
      "cell_type": "code",
      "metadata": {
        "id": "SznwzT2nvicD",
        "colab": {
          "base_uri": "https://localhost:8080/"
        },
        "outputId": "4a76f4e4-c4a0-42e2-a6a6-3426fd72e10f"
      },
      "source": [
        "censusdata.censustable('acs5', 2018, 'B06011')\n",
        "# 'B06011_001E',{'concept': 'MEDIAN INCOME IN THE PAST 12 MONTHS (IN 2018 INFLATION-ADJUSTED DOLLARS) BY PLACE OF BIRTH IN THE UNITED STATES',\n",
        "#               'label': 'Estimate!!Median income in the past 12 months --!!Total',\n",
        "#               'predicateType': 'int'})\n",
        "\n",
        "# censusdata.printtable(censusdata.censustable('acs5', 2018, 'B06011')),"
      ],
      "execution_count": null,
      "outputs": [
        {
          "output_type": "execute_result",
          "data": {
            "text/plain": [
              "OrderedDict([('B06011_001E',\n",
              "              {'concept': 'MEDIAN INCOME IN THE PAST 12 MONTHS (IN 2018 INFLATION-ADJUSTED DOLLARS) BY PLACE OF BIRTH IN THE UNITED STATES',\n",
              "               'label': 'Estimate!!Median income in the past 12 months --!!Total',\n",
              "               'predicateType': 'int'}),\n",
              "             ('B06011_002E',\n",
              "              {'concept': 'MEDIAN INCOME IN THE PAST 12 MONTHS (IN 2018 INFLATION-ADJUSTED DOLLARS) BY PLACE OF BIRTH IN THE UNITED STATES',\n",
              "               'label': 'Estimate!!Median income in the past 12 months --!!Total!!Born in state of residence',\n",
              "               'predicateType': 'int'}),\n",
              "             ('B06011_003E',\n",
              "              {'concept': 'MEDIAN INCOME IN THE PAST 12 MONTHS (IN 2018 INFLATION-ADJUSTED DOLLARS) BY PLACE OF BIRTH IN THE UNITED STATES',\n",
              "               'label': 'Estimate!!Median income in the past 12 months --!!Total!!Born in other state of the United States',\n",
              "               'predicateType': 'int'}),\n",
              "             ('B06011_004E',\n",
              "              {'concept': 'MEDIAN INCOME IN THE PAST 12 MONTHS (IN 2018 INFLATION-ADJUSTED DOLLARS) BY PLACE OF BIRTH IN THE UNITED STATES',\n",
              "               'label': 'Estimate!!Median income in the past 12 months --!!Total!!Native; born outside the United States',\n",
              "               'predicateType': 'int'}),\n",
              "             ('B06011_005E',\n",
              "              {'concept': 'MEDIAN INCOME IN THE PAST 12 MONTHS (IN 2018 INFLATION-ADJUSTED DOLLARS) BY PLACE OF BIRTH IN THE UNITED STATES',\n",
              "               'label': 'Estimate!!Median income in the past 12 months --!!Total!!Foreign born',\n",
              "               'predicateType': 'int'})])"
            ]
          },
          "metadata": {
            "tags": []
          },
          "execution_count": 12
        }
      ]
    },
    {
      "cell_type": "code",
      "metadata": {
        "id": "c5FGI6Yu_yNM"
      },
      "source": [
        "# censusdata.geographies(censusdata.censusgeo([('state', '36'), ('county', '*')]), 'acs5', 2018)\n",
        "# Bronx: 'Bronx County, New York': censusgeo((('state', '36'), ('county', '005'))),\n",
        "# Brooklyn: Kings County, New York': censusgeo((('state', '36'), ('county', '047'))),\n",
        "# Manhattan: 'New York County, New York': censusgeo((('state', '36'), ('county', '061'))),\n",
        "# Queens: 'Queens County, New York': censusgeo((('state', '36'), ('county', '081'))),\n",
        "# Staten Island: 'Richmond County, New York': censusgeo((('state', '36'), ('county', '085'))),\n",
        "\n",
        "b_income = pd.concat([censusdata.download('acs5', 2018, censusdata.censusgeo([('state', '36'), ('county', i), ('tract', '*')]), [\"B06011_001E\"]) for i in [\"005\"]])\n",
        "k_income = pd.concat([censusdata.download('acs5', 2018, censusdata.censusgeo([('state', '36'), ('county', i), ('tract', '*')]), [\"B06011_001E\"]) for i in [\"047\"]])\n",
        "n_income = pd.concat([censusdata.download('acs5', 2018, censusdata.censusgeo([('state', '36'), ('county', i), ('tract', '*')]), [\"B06011_001E\"]) for i in [\"061\"]])\n",
        "q_income = pd.concat([censusdata.download('acs5', 2018, censusdata.censusgeo([('state', '36'), ('county', i), ('tract', '*')]), [\"B06011_001E\"]) for i in [\"081\"]])\n",
        "r_income = pd.concat([censusdata.download('acs5', 2018, censusdata.censusgeo([('state', '36'), ('county', i), ('tract', '*')]), [\"B06011_001E\"]) for i in [\"085\"]])"
      ],
      "execution_count": null,
      "outputs": []
    },
    {
      "cell_type": "code",
      "metadata": {
        "id": "pkaSuuCsxNwd",
        "colab": {
          "base_uri": "https://localhost:8080/",
          "height": 402
        },
        "outputId": "bc629d7b-fdcd-42ec-b3b6-98d0c0351d9b"
      },
      "source": [
        "pd.concat([b_income, k_income, n_income, q_income, r_income])"
      ],
      "execution_count": null,
      "outputs": [
        {
          "output_type": "execute_result",
          "data": {
            "text/html": [
              "<div>\n",
              "<style scoped>\n",
              "    .dataframe tbody tr th:only-of-type {\n",
              "        vertical-align: middle;\n",
              "    }\n",
              "\n",
              "    .dataframe tbody tr th {\n",
              "        vertical-align: top;\n",
              "    }\n",
              "\n",
              "    .dataframe thead th {\n",
              "        text-align: right;\n",
              "    }\n",
              "</style>\n",
              "<table border=\"1\" class=\"dataframe\">\n",
              "  <thead>\n",
              "    <tr style=\"text-align: right;\">\n",
              "      <th></th>\n",
              "      <th>B06011_001E</th>\n",
              "    </tr>\n",
              "  </thead>\n",
              "  <tbody>\n",
              "    <tr>\n",
              "      <th>Census Tract 429.02, Bronx County, New York: Summary level: 140, state:36&gt; county:005&gt; tract:042902</th>\n",
              "      <td>18167</td>\n",
              "    </tr>\n",
              "    <tr>\n",
              "      <th>Census Tract 330, Bronx County, New York: Summary level: 140, state:36&gt; county:005&gt; tract:033000</th>\n",
              "      <td>21807</td>\n",
              "    </tr>\n",
              "    <tr>\n",
              "      <th>Census Tract 358, Bronx County, New York: Summary level: 140, state:36&gt; county:005&gt; tract:035800</th>\n",
              "      <td>31383</td>\n",
              "    </tr>\n",
              "    <tr>\n",
              "      <th>Census Tract 371, Bronx County, New York: Summary level: 140, state:36&gt; county:005&gt; tract:037100</th>\n",
              "      <td>19418</td>\n",
              "    </tr>\n",
              "    <tr>\n",
              "      <th>Census Tract 385, Bronx County, New York: Summary level: 140, state:36&gt; county:005&gt; tract:038500</th>\n",
              "      <td>13343</td>\n",
              "    </tr>\n",
              "    <tr>\n",
              "      <th>...</th>\n",
              "      <td>...</td>\n",
              "    </tr>\n",
              "    <tr>\n",
              "      <th>Census Tract 170.12, Richmond County, New York: Summary level: 140, state:36&gt; county:085&gt; tract:017012</th>\n",
              "      <td>40313</td>\n",
              "    </tr>\n",
              "    <tr>\n",
              "      <th>Census Tract 244.02, Richmond County, New York: Summary level: 140, state:36&gt; county:085&gt; tract:024402</th>\n",
              "      <td>51591</td>\n",
              "    </tr>\n",
              "    <tr>\n",
              "      <th>Census Tract 277.05, Richmond County, New York: Summary level: 140, state:36&gt; county:085&gt; tract:027705</th>\n",
              "      <td>35029</td>\n",
              "    </tr>\n",
              "    <tr>\n",
              "      <th>Census Tract 277.06, Richmond County, New York: Summary level: 140, state:36&gt; county:085&gt; tract:027706</th>\n",
              "      <td>35709</td>\n",
              "    </tr>\n",
              "    <tr>\n",
              "      <th>Census Tract 9901, Richmond County, New York: Summary level: 140, state:36&gt; county:085&gt; tract:990100</th>\n",
              "      <td>-666666666</td>\n",
              "    </tr>\n",
              "  </tbody>\n",
              "</table>\n",
              "<p>2167 rows × 1 columns</p>\n",
              "</div>"
            ],
            "text/plain": [
              "                                                    B06011_001E\n",
              "Census Tract 429.02, Bronx County, New York: Su...        18167\n",
              "Census Tract 330, Bronx County, New York: Summa...        21807\n",
              "Census Tract 358, Bronx County, New York: Summa...        31383\n",
              "Census Tract 371, Bronx County, New York: Summa...        19418\n",
              "Census Tract 385, Bronx County, New York: Summa...        13343\n",
              "...                                                         ...\n",
              "Census Tract 170.12, Richmond County, New York:...        40313\n",
              "Census Tract 244.02, Richmond County, New York:...        51591\n",
              "Census Tract 277.05, Richmond County, New York:...        35029\n",
              "Census Tract 277.06, Richmond County, New York:...        35709\n",
              "Census Tract 9901, Richmond County, New York: S...   -666666666\n",
              "\n",
              "[2167 rows x 1 columns]"
            ]
          },
          "metadata": {
            "tags": []
          },
          "execution_count": 14
        }
      ]
    },
    {
      "cell_type": "code",
      "metadata": {
        "id": "v1jUMRYmufHb"
      },
      "source": [
        ""
      ],
      "execution_count": null,
      "outputs": []
    },
    {
      "cell_type": "markdown",
      "metadata": {
        "id": "2VwXgPHh_zYg"
      },
      "source": [
        "#Data preprocessing "
      ]
    },
    {
      "cell_type": "markdown",
      "metadata": {
        "id": "OGVkfz66nq7D"
      },
      "source": [
        "# Bonus: WRI global flood risk data"
      ]
    },
    {
      "cell_type": "code",
      "metadata": {
        "id": "nYjFOu1RkqDX"
      },
      "source": [
        "fstate = gp.read_file(\"/content/drive/My Drive/flooding/data/WRI_data/aqueductglobalfloodriskdatabystate20150304/aqueduct_global_flood_risk_data_by_state_20150304.shp\")\n",
        "friverbasin = gp.read_file(\"/content/drive/My Drive/flooding/data/WRI_data/aqueductglobalfloodriskdatabyriverbasin20150304/aqueduct_global_flood_risk_data_by_river_basin_20150304.shp\")\n",
        "fcountry = gp.read_file(\"/content/drive/My Drive/flooding/data/WRI_data/aqueductglobalfloodriskdatabycountry20150304/aqueduct_global_flood_risk_data_by_country_20150304.shp\")"
      ],
      "execution_count": null,
      "outputs": []
    },
    {
      "cell_type": "code",
      "metadata": {
        "id": "h4k81U7GmwmX",
        "colab": {
          "base_uri": "https://localhost:8080/"
        },
        "outputId": "c4a9c64c-fd68-4022-921e-c97f59c89480"
      },
      "source": [
        "friverbasin.crs"
      ],
      "execution_count": null,
      "outputs": [
        {
          "output_type": "execute_result",
          "data": {
            "text/plain": [
              "<Geographic 2D CRS: EPSG:4326>\n",
              "Name: WGS 84\n",
              "Axis Info [ellipsoidal]:\n",
              "- Lat[north]: Geodetic latitude (degree)\n",
              "- Lon[east]: Geodetic longitude (degree)\n",
              "Area of Use:\n",
              "- name: World.\n",
              "- bounds: (-180.0, -90.0, 180.0, 90.0)\n",
              "Datum: World Geodetic System 1984\n",
              "- Ellipsoid: WGS 84\n",
              "- Prime Meridian: Greenwich"
            ]
          },
          "metadata": {
            "tags": []
          },
          "execution_count": 16
        }
      ]
    },
    {
      "cell_type": "code",
      "metadata": {
        "id": "8s9ckOKtl0Oa",
        "colab": {
          "base_uri": "https://localhost:8080/"
        },
        "outputId": "dad658b8-4841-4be6-bc83-8d462f32721c"
      },
      "source": [
        "print(fstate.crs)\n",
        "print(\"\")\n",
        "print(friverbasin.crs)\n",
        "print(\"\")\n",
        "print(fcountry.crs)"
      ],
      "execution_count": null,
      "outputs": [
        {
          "output_type": "stream",
          "text": [
            "epsg:4326\n",
            "\n",
            "epsg:4326\n",
            "\n",
            "epsg:4326\n"
          ],
          "name": "stdout"
        }
      ]
    },
    {
      "cell_type": "code",
      "metadata": {
        "id": "ebhMnWyml-4H",
        "colab": {
          "base_uri": "https://localhost:8080/",
          "height": 195
        },
        "outputId": "db673f86-1067-4db0-c20b-a51ab3134eee"
      },
      "source": [
        "fstate.bounds.head()"
      ],
      "execution_count": null,
      "outputs": [
        {
          "output_type": "execute_result",
          "data": {
            "text/html": [
              "<div>\n",
              "<style scoped>\n",
              "    .dataframe tbody tr th:only-of-type {\n",
              "        vertical-align: middle;\n",
              "    }\n",
              "\n",
              "    .dataframe tbody tr th {\n",
              "        vertical-align: top;\n",
              "    }\n",
              "\n",
              "    .dataframe thead th {\n",
              "        text-align: right;\n",
              "    }\n",
              "</style>\n",
              "<table border=\"1\" class=\"dataframe\">\n",
              "  <thead>\n",
              "    <tr style=\"text-align: right;\">\n",
              "      <th></th>\n",
              "      <th>minx</th>\n",
              "      <th>miny</th>\n",
              "      <th>maxx</th>\n",
              "      <th>maxy</th>\n",
              "    </tr>\n",
              "  </thead>\n",
              "  <tbody>\n",
              "    <tr>\n",
              "      <th>0</th>\n",
              "      <td>-70.062408</td>\n",
              "      <td>12.417670</td>\n",
              "      <td>-69.876820</td>\n",
              "      <td>12.632148</td>\n",
              "    </tr>\n",
              "    <tr>\n",
              "      <th>1</th>\n",
              "      <td>62.651763</td>\n",
              "      <td>34.509367</td>\n",
              "      <td>65.047327</td>\n",
              "      <td>36.031732</td>\n",
              "    </tr>\n",
              "    <tr>\n",
              "      <th>2</th>\n",
              "      <td>60.486778</td>\n",
              "      <td>32.782056</td>\n",
              "      <td>64.482504</td>\n",
              "      <td>35.630901</td>\n",
              "    </tr>\n",
              "    <tr>\n",
              "      <th>3</th>\n",
              "      <td>66.330608</td>\n",
              "      <td>33.937929</td>\n",
              "      <td>68.282685</td>\n",
              "      <td>35.469618</td>\n",
              "    </tr>\n",
              "    <tr>\n",
              "      <th>4</th>\n",
              "      <td>66.247874</td>\n",
              "      <td>35.667255</td>\n",
              "      <td>68.189099</td>\n",
              "      <td>37.385213</td>\n",
              "    </tr>\n",
              "  </tbody>\n",
              "</table>\n",
              "</div>"
            ],
            "text/plain": [
              "        minx       miny       maxx       maxy\n",
              "0 -70.062408  12.417670 -69.876820  12.632148\n",
              "1  62.651763  34.509367  65.047327  36.031732\n",
              "2  60.486778  32.782056  64.482504  35.630901\n",
              "3  66.330608  33.937929  68.282685  35.469618\n",
              "4  66.247874  35.667255  68.189099  37.385213"
            ]
          },
          "metadata": {
            "tags": []
          },
          "execution_count": 18
        }
      ]
    },
    {
      "cell_type": "code",
      "metadata": {
        "id": "Ulzs75P4mCFF",
        "colab": {
          "base_uri": "https://localhost:8080/",
          "height": 227
        },
        "outputId": "5999ffe3-7d5d-4499-d846-c59ba1bd43cc"
      },
      "source": [
        "fstate.plot()"
      ],
      "execution_count": null,
      "outputs": [
        {
          "output_type": "execute_result",
          "data": {
            "text/plain": [
              "<matplotlib.axes._subplots.AxesSubplot at 0x7f2d06216b70>"
            ]
          },
          "metadata": {
            "tags": []
          },
          "execution_count": 19
        },
        {
          "output_type": "display_data",
          "data": {
            "image/png": "[encoded data removed]",
            "text/plain": [
              "<Figure size 432x288 with 1 Axes>"
            ]
          },
          "metadata": {
            "tags": [],
            "needs_background": "light"
          }
        }
      ]
    },
    {
      "cell_type": "code",
      "metadata": {
        "id": "cpY6Nu8rmHqm",
        "colab": {
          "base_uri": "https://localhost:8080/",
          "height": 199
        },
        "outputId": "94eda2e2-61c2-4255-b194-81bf31d2b844"
      },
      "source": [
        "friverbasin.plot()"
      ],
      "execution_count": null,
      "outputs": [
        {
          "output_type": "execute_result",
          "data": {
            "text/plain": [
              "<matplotlib.axes._subplots.AxesSubplot at 0x7f2d05d345f8>"
            ]
          },
          "metadata": {
            "tags": []
          },
          "execution_count": 20
        },
        {
          "output_type": "display_data",
          "data": {
            "image/png": "[encoded data removed]",
            "text/plain": [
              "<Figure size 432x288 with 1 Axes>"
            ]
          },
          "metadata": {
            "tags": [],
            "needs_background": "light"
          }
        }
      ]
    },
    {
      "cell_type": "code",
      "metadata": {
        "id": "j7GIHHnIoKo8",
        "colab": {
          "base_uri": "https://localhost:8080/",
          "height": 227
        },
        "outputId": "8a56262a-7dcd-43ee-d981-cd0193b0a671"
      },
      "source": [
        "fcountry.plot()"
      ],
      "execution_count": null,
      "outputs": [
        {
          "output_type": "execute_result",
          "data": {
            "text/plain": [
              "<matplotlib.axes._subplots.AxesSubplot at 0x7f2d06022128>"
            ]
          },
          "metadata": {
            "tags": []
          },
          "execution_count": 21
        },
        {
          "output_type": "display_data",
          "data": {
            "image/png": "[encoded data removed]",
            "text/plain": [
              "<Figure size 432x288 with 1 Axes>"
            ]
          },
          "metadata": {
            "tags": [],
            "needs_background": "light"
          }
        }
      ]
    },
    {
      "cell_type": "code",
      "metadata": {
        "id": "VhiLMnxgoKce"
      },
      "source": [
        ""
      ],
      "execution_count": null,
      "outputs": []
    }
  ]
}